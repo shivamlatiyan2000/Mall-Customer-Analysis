{
 "cells": [
  {
   "cell_type": "code",
   "execution_count": 1,
   "id": "d40d9e61",
   "metadata": {},
   "outputs": [],
   "source": [
    "#load the libraries\n",
    "import pandas as pd\n",
    "import numpy as np\n",
    "import matplotlib.pyplot as plt\n",
    "import seaborn as sns"
   ]
  },
  {
   "cell_type": "code",
   "execution_count": 2,
   "id": "ee5bbd53",
   "metadata": {},
   "outputs": [],
   "source": [
    "#load the dataset\n",
    "df=pd.read_csv('Mall_Customers.csv')"
   ]
  },
  {
   "cell_type": "code",
   "execution_count": 3,
   "id": "04ede7f1",
   "metadata": {},
   "outputs": [
    {
     "data": {
      "text/plain": [
       "(250, 5)"
      ]
     },
     "execution_count": 3,
     "metadata": {},
     "output_type": "execute_result"
    }
   ],
   "source": [
    "df.shape"
   ]
  },
  {
   "cell_type": "code",
   "execution_count": 4,
   "id": "20ac15aa",
   "metadata": {},
   "outputs": [
    {
     "name": "stdout",
     "output_type": "stream",
     "text": [
      "<class 'pandas.core.frame.DataFrame'>\n",
      "RangeIndex: 250 entries, 0 to 249\n",
      "Data columns (total 5 columns):\n",
      " #   Column                  Non-Null Count  Dtype \n",
      "---  ------                  --------------  ----- \n",
      " 0   CustomerID              250 non-null    int64 \n",
      " 1   Gender                  250 non-null    object\n",
      " 2   Age                     250 non-null    int64 \n",
      " 3   Annual Income (k$)      250 non-null    int64 \n",
      " 4   Spending Score (1-100)  250 non-null    int64 \n",
      "dtypes: int64(4), object(1)\n",
      "memory usage: 9.9+ KB\n"
     ]
    }
   ],
   "source": [
    "df.info()"
   ]
  },
  {
   "cell_type": "code",
   "execution_count": 5,
   "id": "298490b8",
   "metadata": {},
   "outputs": [
    {
     "data": {
      "text/plain": [
       "CustomerID                0\n",
       "Gender                    0\n",
       "Age                       0\n",
       "Annual Income (k$)        0\n",
       "Spending Score (1-100)    0\n",
       "dtype: int64"
      ]
     },
     "execution_count": 5,
     "metadata": {},
     "output_type": "execute_result"
    }
   ],
   "source": [
    "#checking the null values\n",
    "df.isnull().sum()"
   ]
  },
  {
   "cell_type": "code",
   "execution_count": 6,
   "id": "fb054128",
   "metadata": {},
   "outputs": [
    {
     "data": {
      "text/html": [
       "<div>\n",
       "<style scoped>\n",
       "    .dataframe tbody tr th:only-of-type {\n",
       "        vertical-align: middle;\n",
       "    }\n",
       "\n",
       "    .dataframe tbody tr th {\n",
       "        vertical-align: top;\n",
       "    }\n",
       "\n",
       "    .dataframe thead th {\n",
       "        text-align: right;\n",
       "    }\n",
       "</style>\n",
       "<table border=\"1\" class=\"dataframe\">\n",
       "  <thead>\n",
       "    <tr style=\"text-align: right;\">\n",
       "      <th></th>\n",
       "      <th>CustomerID</th>\n",
       "      <th>Age</th>\n",
       "      <th>Annual Income (k$)</th>\n",
       "      <th>Spending Score (1-100)</th>\n",
       "    </tr>\n",
       "  </thead>\n",
       "  <tbody>\n",
       "    <tr>\n",
       "      <th>count</th>\n",
       "      <td>250.000000</td>\n",
       "      <td>250.00000</td>\n",
       "      <td>250.000000</td>\n",
       "      <td>250.000000</td>\n",
       "    </tr>\n",
       "    <tr>\n",
       "      <th>mean</th>\n",
       "      <td>125.500000</td>\n",
       "      <td>38.49200</td>\n",
       "      <td>95.592000</td>\n",
       "      <td>50.244000</td>\n",
       "    </tr>\n",
       "    <tr>\n",
       "      <th>std</th>\n",
       "      <td>72.312977</td>\n",
       "      <td>13.17026</td>\n",
       "      <td>77.308758</td>\n",
       "      <td>27.289914</td>\n",
       "    </tr>\n",
       "    <tr>\n",
       "      <th>min</th>\n",
       "      <td>1.000000</td>\n",
       "      <td>18.00000</td>\n",
       "      <td>15.000000</td>\n",
       "      <td>1.000000</td>\n",
       "    </tr>\n",
       "    <tr>\n",
       "      <th>25%</th>\n",
       "      <td>63.250000</td>\n",
       "      <td>29.00000</td>\n",
       "      <td>47.000000</td>\n",
       "      <td>27.000000</td>\n",
       "    </tr>\n",
       "    <tr>\n",
       "      <th>50%</th>\n",
       "      <td>125.500000</td>\n",
       "      <td>36.00000</td>\n",
       "      <td>70.000000</td>\n",
       "      <td>50.000000</td>\n",
       "    </tr>\n",
       "    <tr>\n",
       "      <th>75%</th>\n",
       "      <td>187.750000</td>\n",
       "      <td>47.75000</td>\n",
       "      <td>101.000000</td>\n",
       "      <td>74.000000</td>\n",
       "    </tr>\n",
       "    <tr>\n",
       "      <th>max</th>\n",
       "      <td>250.000000</td>\n",
       "      <td>70.00000</td>\n",
       "      <td>325.000000</td>\n",
       "      <td>99.000000</td>\n",
       "    </tr>\n",
       "  </tbody>\n",
       "</table>\n",
       "</div>"
      ],
      "text/plain": [
       "       CustomerID        Age  Annual Income (k$)  Spending Score (1-100)\n",
       "count  250.000000  250.00000          250.000000              250.000000\n",
       "mean   125.500000   38.49200           95.592000               50.244000\n",
       "std     72.312977   13.17026           77.308758               27.289914\n",
       "min      1.000000   18.00000           15.000000                1.000000\n",
       "25%     63.250000   29.00000           47.000000               27.000000\n",
       "50%    125.500000   36.00000           70.000000               50.000000\n",
       "75%    187.750000   47.75000          101.000000               74.000000\n",
       "max    250.000000   70.00000          325.000000               99.000000"
      ]
     },
     "execution_count": 6,
     "metadata": {},
     "output_type": "execute_result"
    }
   ],
   "source": [
    "df.describe()"
   ]
  },
  {
   "cell_type": "code",
   "execution_count": 7,
   "id": "3c00e081",
   "metadata": {},
   "outputs": [
    {
     "data": {
      "text/html": [
       "<div>\n",
       "<style scoped>\n",
       "    .dataframe tbody tr th:only-of-type {\n",
       "        vertical-align: middle;\n",
       "    }\n",
       "\n",
       "    .dataframe tbody tr th {\n",
       "        vertical-align: top;\n",
       "    }\n",
       "\n",
       "    .dataframe thead th {\n",
       "        text-align: right;\n",
       "    }\n",
       "</style>\n",
       "<table border=\"1\" class=\"dataframe\">\n",
       "  <thead>\n",
       "    <tr style=\"text-align: right;\">\n",
       "      <th></th>\n",
       "      <th>CustomerID</th>\n",
       "      <th>Gender</th>\n",
       "      <th>Age</th>\n",
       "      <th>Annual Income (k$)</th>\n",
       "      <th>Spending Score (1-100)</th>\n",
       "    </tr>\n",
       "  </thead>\n",
       "  <tbody>\n",
       "    <tr>\n",
       "      <th>0</th>\n",
       "      <td>1</td>\n",
       "      <td>Male</td>\n",
       "      <td>19</td>\n",
       "      <td>15</td>\n",
       "      <td>39</td>\n",
       "    </tr>\n",
       "    <tr>\n",
       "      <th>1</th>\n",
       "      <td>2</td>\n",
       "      <td>Male</td>\n",
       "      <td>21</td>\n",
       "      <td>15</td>\n",
       "      <td>81</td>\n",
       "    </tr>\n",
       "    <tr>\n",
       "      <th>2</th>\n",
       "      <td>3</td>\n",
       "      <td>Female</td>\n",
       "      <td>20</td>\n",
       "      <td>16</td>\n",
       "      <td>6</td>\n",
       "    </tr>\n",
       "    <tr>\n",
       "      <th>3</th>\n",
       "      <td>4</td>\n",
       "      <td>Female</td>\n",
       "      <td>23</td>\n",
       "      <td>16</td>\n",
       "      <td>77</td>\n",
       "    </tr>\n",
       "    <tr>\n",
       "      <th>4</th>\n",
       "      <td>5</td>\n",
       "      <td>Female</td>\n",
       "      <td>31</td>\n",
       "      <td>17</td>\n",
       "      <td>40</td>\n",
       "    </tr>\n",
       "    <tr>\n",
       "      <th>...</th>\n",
       "      <td>...</td>\n",
       "      <td>...</td>\n",
       "      <td>...</td>\n",
       "      <td>...</td>\n",
       "      <td>...</td>\n",
       "    </tr>\n",
       "    <tr>\n",
       "      <th>245</th>\n",
       "      <td>246</td>\n",
       "      <td>Male</td>\n",
       "      <td>30</td>\n",
       "      <td>297</td>\n",
       "      <td>69</td>\n",
       "    </tr>\n",
       "    <tr>\n",
       "      <th>246</th>\n",
       "      <td>247</td>\n",
       "      <td>Female</td>\n",
       "      <td>56</td>\n",
       "      <td>311</td>\n",
       "      <td>14</td>\n",
       "    </tr>\n",
       "    <tr>\n",
       "      <th>247</th>\n",
       "      <td>248</td>\n",
       "      <td>Male</td>\n",
       "      <td>29</td>\n",
       "      <td>313</td>\n",
       "      <td>90</td>\n",
       "    </tr>\n",
       "    <tr>\n",
       "      <th>248</th>\n",
       "      <td>249</td>\n",
       "      <td>Female</td>\n",
       "      <td>19</td>\n",
       "      <td>316</td>\n",
       "      <td>32</td>\n",
       "    </tr>\n",
       "    <tr>\n",
       "      <th>249</th>\n",
       "      <td>250</td>\n",
       "      <td>Female</td>\n",
       "      <td>31</td>\n",
       "      <td>325</td>\n",
       "      <td>86</td>\n",
       "    </tr>\n",
       "  </tbody>\n",
       "</table>\n",
       "<p>250 rows × 5 columns</p>\n",
       "</div>"
      ],
      "text/plain": [
       "     CustomerID  Gender  Age  Annual Income (k$)  Spending Score (1-100)\n",
       "0             1    Male   19                  15                      39\n",
       "1             2    Male   21                  15                      81\n",
       "2             3  Female   20                  16                       6\n",
       "3             4  Female   23                  16                      77\n",
       "4             5  Female   31                  17                      40\n",
       "..          ...     ...  ...                 ...                     ...\n",
       "245         246    Male   30                 297                      69\n",
       "246         247  Female   56                 311                      14\n",
       "247         248    Male   29                 313                      90\n",
       "248         249  Female   19                 316                      32\n",
       "249         250  Female   31                 325                      86\n",
       "\n",
       "[250 rows x 5 columns]"
      ]
     },
     "execution_count": 7,
     "metadata": {},
     "output_type": "execute_result"
    }
   ],
   "source": [
    "df"
   ]
  },
  {
   "cell_type": "code",
   "execution_count": 8,
   "id": "13e7e5d3",
   "metadata": {},
   "outputs": [
    {
     "data": {
      "text/html": [
       "<div>\n",
       "<style scoped>\n",
       "    .dataframe tbody tr th:only-of-type {\n",
       "        vertical-align: middle;\n",
       "    }\n",
       "\n",
       "    .dataframe tbody tr th {\n",
       "        vertical-align: top;\n",
       "    }\n",
       "\n",
       "    .dataframe thead th {\n",
       "        text-align: right;\n",
       "    }\n",
       "</style>\n",
       "<table border=\"1\" class=\"dataframe\">\n",
       "  <thead>\n",
       "    <tr style=\"text-align: right;\">\n",
       "      <th></th>\n",
       "      <th>Annual Income (k$)</th>\n",
       "      <th>Spending Score (1-100)</th>\n",
       "    </tr>\n",
       "  </thead>\n",
       "  <tbody>\n",
       "    <tr>\n",
       "      <th>0</th>\n",
       "      <td>15</td>\n",
       "      <td>39</td>\n",
       "    </tr>\n",
       "    <tr>\n",
       "      <th>1</th>\n",
       "      <td>15</td>\n",
       "      <td>81</td>\n",
       "    </tr>\n",
       "    <tr>\n",
       "      <th>2</th>\n",
       "      <td>16</td>\n",
       "      <td>6</td>\n",
       "    </tr>\n",
       "    <tr>\n",
       "      <th>3</th>\n",
       "      <td>16</td>\n",
       "      <td>77</td>\n",
       "    </tr>\n",
       "    <tr>\n",
       "      <th>4</th>\n",
       "      <td>17</td>\n",
       "      <td>40</td>\n",
       "    </tr>\n",
       "    <tr>\n",
       "      <th>...</th>\n",
       "      <td>...</td>\n",
       "      <td>...</td>\n",
       "    </tr>\n",
       "    <tr>\n",
       "      <th>245</th>\n",
       "      <td>297</td>\n",
       "      <td>69</td>\n",
       "    </tr>\n",
       "    <tr>\n",
       "      <th>246</th>\n",
       "      <td>311</td>\n",
       "      <td>14</td>\n",
       "    </tr>\n",
       "    <tr>\n",
       "      <th>247</th>\n",
       "      <td>313</td>\n",
       "      <td>90</td>\n",
       "    </tr>\n",
       "    <tr>\n",
       "      <th>248</th>\n",
       "      <td>316</td>\n",
       "      <td>32</td>\n",
       "    </tr>\n",
       "    <tr>\n",
       "      <th>249</th>\n",
       "      <td>325</td>\n",
       "      <td>86</td>\n",
       "    </tr>\n",
       "  </tbody>\n",
       "</table>\n",
       "<p>250 rows × 2 columns</p>\n",
       "</div>"
      ],
      "text/plain": [
       "     Annual Income (k$)  Spending Score (1-100)\n",
       "0                    15                      39\n",
       "1                    15                      81\n",
       "2                    16                       6\n",
       "3                    16                      77\n",
       "4                    17                      40\n",
       "..                  ...                     ...\n",
       "245                 297                      69\n",
       "246                 311                      14\n",
       "247                 313                      90\n",
       "248                 316                      32\n",
       "249                 325                      86\n",
       "\n",
       "[250 rows x 2 columns]"
      ]
     },
     "execution_count": 8,
     "metadata": {},
     "output_type": "execute_result"
    }
   ],
   "source": [
    "df_new=df.iloc[:,3:]\n",
    "df_new"
   ]
  },
  {
   "cell_type": "code",
   "execution_count": 9,
   "id": "c09726c4",
   "metadata": {},
   "outputs": [
    {
     "data": {
      "image/png": "[encoded data removed]",
      "text/plain": [
       "<Figure size 640x480 with 1 Axes>"
      ]
     },
     "metadata": {},
     "output_type": "display_data"
    }
   ],
   "source": [
    "#explore\n",
    "plt.scatter(df['Annual Income (k$)'],df['Spending Score (1-100)'])\n",
    "plt.show()"
   ]
  },
  {
   "cell_type": "code",
   "execution_count": 11,
   "id": "2945333d",
   "metadata": {},
   "outputs": [
    {
     "name": "stderr",
     "output_type": "stream",
     "text": [
      "C:\\ProgramData\\anaconda3\\Lib\\site-packages\\sklearn\\cluster\\_kmeans.py:1412: FutureWarning: The default value of `n_init` will change from 10 to 'auto' in 1.4. Set the value of `n_init` explicitly to suppress the warning\n",
      "  super()._check_params_vs_input(X, default_n_init=10)\n",
      "C:\\ProgramData\\anaconda3\\Lib\\site-packages\\sklearn\\cluster\\_kmeans.py:1436: UserWarning: KMeans is known to have a memory leak on Windows with MKL, when there are less chunks than available threads. You can avoid it by setting the environment variable OMP_NUM_THREADS=1.\n",
      "  warnings.warn(\n",
      "C:\\ProgramData\\anaconda3\\Lib\\site-packages\\sklearn\\cluster\\_kmeans.py:1412: FutureWarning: The default value of `n_init` will change from 10 to 'auto' in 1.4. Set the value of `n_init` explicitly to suppress the warning\n",
      "  super()._check_params_vs_input(X, default_n_init=10)\n",
      "C:\\ProgramData\\anaconda3\\Lib\\site-packages\\sklearn\\cluster\\_kmeans.py:1436: UserWarning: KMeans is known to have a memory leak on Windows with MKL, when there are less chunks than available threads. You can avoid it by setting the environment variable OMP_NUM_THREADS=1.\n",
      "  warnings.warn(\n",
      "C:\\ProgramData\\anaconda3\\Lib\\site-packages\\sklearn\\cluster\\_kmeans.py:1412: FutureWarning: The default value of `n_init` will change from 10 to 'auto' in 1.4. Set the value of `n_init` explicitly to suppress the warning\n",
      "  super()._check_params_vs_input(X, default_n_init=10)\n",
      "C:\\ProgramData\\anaconda3\\Lib\\site-packages\\sklearn\\cluster\\_kmeans.py:1436: UserWarning: KMeans is known to have a memory leak on Windows with MKL, when there are less chunks than available threads. You can avoid it by setting the environment variable OMP_NUM_THREADS=1.\n",
      "  warnings.warn(\n",
      "C:\\ProgramData\\anaconda3\\Lib\\site-packages\\sklearn\\cluster\\_kmeans.py:1412: FutureWarning: The default value of `n_init` will change from 10 to 'auto' in 1.4. Set the value of `n_init` explicitly to suppress the warning\n",
      "  super()._check_params_vs_input(X, default_n_init=10)\n",
      "C:\\ProgramData\\anaconda3\\Lib\\site-packages\\sklearn\\cluster\\_kmeans.py:1436: UserWarning: KMeans is known to have a memory leak on Windows with MKL, when there are less chunks than available threads. You can avoid it by setting the environment variable OMP_NUM_THREADS=1.\n",
      "  warnings.warn(\n",
      "C:\\ProgramData\\anaconda3\\Lib\\site-packages\\sklearn\\cluster\\_kmeans.py:1412: FutureWarning: The default value of `n_init` will change from 10 to 'auto' in 1.4. Set the value of `n_init` explicitly to suppress the warning\n",
      "  super()._check_params_vs_input(X, default_n_init=10)\n",
      "C:\\ProgramData\\anaconda3\\Lib\\site-packages\\sklearn\\cluster\\_kmeans.py:1436: UserWarning: KMeans is known to have a memory leak on Windows with MKL, when there are less chunks than available threads. You can avoid it by setting the environment variable OMP_NUM_THREADS=1.\n",
      "  warnings.warn(\n",
      "C:\\ProgramData\\anaconda3\\Lib\\site-packages\\sklearn\\cluster\\_kmeans.py:1412: FutureWarning: The default value of `n_init` will change from 10 to 'auto' in 1.4. Set the value of `n_init` explicitly to suppress the warning\n",
      "  super()._check_params_vs_input(X, default_n_init=10)\n",
      "C:\\ProgramData\\anaconda3\\Lib\\site-packages\\sklearn\\cluster\\_kmeans.py:1436: UserWarning: KMeans is known to have a memory leak on Windows with MKL, when there are less chunks than available threads. You can avoid it by setting the environment variable OMP_NUM_THREADS=1.\n",
      "  warnings.warn(\n",
      "C:\\ProgramData\\anaconda3\\Lib\\site-packages\\sklearn\\cluster\\_kmeans.py:1412: FutureWarning: The default value of `n_init` will change from 10 to 'auto' in 1.4. Set the value of `n_init` explicitly to suppress the warning\n",
      "  super()._check_params_vs_input(X, default_n_init=10)\n",
      "C:\\ProgramData\\anaconda3\\Lib\\site-packages\\sklearn\\cluster\\_kmeans.py:1436: UserWarning: KMeans is known to have a memory leak on Windows with MKL, when there are less chunks than available threads. You can avoid it by setting the environment variable OMP_NUM_THREADS=1.\n",
      "  warnings.warn(\n",
      "C:\\ProgramData\\anaconda3\\Lib\\site-packages\\sklearn\\cluster\\_kmeans.py:1412: FutureWarning: The default value of `n_init` will change from 10 to 'auto' in 1.4. Set the value of `n_init` explicitly to suppress the warning\n",
      "  super()._check_params_vs_input(X, default_n_init=10)\n",
      "C:\\ProgramData\\anaconda3\\Lib\\site-packages\\sklearn\\cluster\\_kmeans.py:1436: UserWarning: KMeans is known to have a memory leak on Windows with MKL, when there are less chunks than available threads. You can avoid it by setting the environment variable OMP_NUM_THREADS=1.\n",
      "  warnings.warn(\n",
      "C:\\ProgramData\\anaconda3\\Lib\\site-packages\\sklearn\\cluster\\_kmeans.py:1412: FutureWarning: The default value of `n_init` will change from 10 to 'auto' in 1.4. Set the value of `n_init` explicitly to suppress the warning\n",
      "  super()._check_params_vs_input(X, default_n_init=10)\n",
      "C:\\ProgramData\\anaconda3\\Lib\\site-packages\\sklearn\\cluster\\_kmeans.py:1436: UserWarning: KMeans is known to have a memory leak on Windows with MKL, when there are less chunks than available threads. You can avoid it by setting the environment variable OMP_NUM_THREADS=1.\n",
      "  warnings.warn(\n",
      "C:\\ProgramData\\anaconda3\\Lib\\site-packages\\sklearn\\cluster\\_kmeans.py:1412: FutureWarning: The default value of `n_init` will change from 10 to 'auto' in 1.4. Set the value of `n_init` explicitly to suppress the warning\n",
      "  super()._check_params_vs_input(X, default_n_init=10)\n",
      "C:\\ProgramData\\anaconda3\\Lib\\site-packages\\sklearn\\cluster\\_kmeans.py:1436: UserWarning: KMeans is known to have a memory leak on Windows with MKL, when there are less chunks than available threads. You can avoid it by setting the environment variable OMP_NUM_THREADS=1.\n",
      "  warnings.warn(\n",
      "C:\\ProgramData\\anaconda3\\Lib\\site-packages\\sklearn\\cluster\\_kmeans.py:1412: FutureWarning: The default value of `n_init` will change from 10 to 'auto' in 1.4. Set the value of `n_init` explicitly to suppress the warning\n",
      "  super()._check_params_vs_input(X, default_n_init=10)\n",
      "C:\\ProgramData\\anaconda3\\Lib\\site-packages\\sklearn\\cluster\\_kmeans.py:1436: UserWarning: KMeans is known to have a memory leak on Windows with MKL, when there are less chunks than available threads. You can avoid it by setting the environment variable OMP_NUM_THREADS=1.\n",
      "  warnings.warn(\n",
      "C:\\ProgramData\\anaconda3\\Lib\\site-packages\\sklearn\\cluster\\_kmeans.py:1412: FutureWarning: The default value of `n_init` will change from 10 to 'auto' in 1.4. Set the value of `n_init` explicitly to suppress the warning\n",
      "  super()._check_params_vs_input(X, default_n_init=10)\n",
      "C:\\ProgramData\\anaconda3\\Lib\\site-packages\\sklearn\\cluster\\_kmeans.py:1436: UserWarning: KMeans is known to have a memory leak on Windows with MKL, when there are less chunks than available threads. You can avoid it by setting the environment variable OMP_NUM_THREADS=1.\n",
      "  warnings.warn(\n",
      "C:\\ProgramData\\anaconda3\\Lib\\site-packages\\sklearn\\cluster\\_kmeans.py:1412: FutureWarning: The default value of `n_init` will change from 10 to 'auto' in 1.4. Set the value of `n_init` explicitly to suppress the warning\n",
      "  super()._check_params_vs_input(X, default_n_init=10)\n",
      "C:\\ProgramData\\anaconda3\\Lib\\site-packages\\sklearn\\cluster\\_kmeans.py:1436: UserWarning: KMeans is known to have a memory leak on Windows with MKL, when there are less chunks than available threads. You can avoid it by setting the environment variable OMP_NUM_THREADS=1.\n",
      "  warnings.warn(\n",
      "C:\\ProgramData\\anaconda3\\Lib\\site-packages\\sklearn\\cluster\\_kmeans.py:1412: FutureWarning: The default value of `n_init` will change from 10 to 'auto' in 1.4. Set the value of `n_init` explicitly to suppress the warning\n",
      "  super()._check_params_vs_input(X, default_n_init=10)\n",
      "C:\\ProgramData\\anaconda3\\Lib\\site-packages\\sklearn\\cluster\\_kmeans.py:1436: UserWarning: KMeans is known to have a memory leak on Windows with MKL, when there are less chunks than available threads. You can avoid it by setting the environment variable OMP_NUM_THREADS=1.\n",
      "  warnings.warn(\n",
      "C:\\ProgramData\\anaconda3\\Lib\\site-packages\\sklearn\\cluster\\_kmeans.py:1412: FutureWarning: The default value of `n_init` will change from 10 to 'auto' in 1.4. Set the value of `n_init` explicitly to suppress the warning\n",
      "  super()._check_params_vs_input(X, default_n_init=10)\n",
      "C:\\ProgramData\\anaconda3\\Lib\\site-packages\\sklearn\\cluster\\_kmeans.py:1436: UserWarning: KMeans is known to have a memory leak on Windows with MKL, when there are less chunks than available threads. You can avoid it by setting the environment variable OMP_NUM_THREADS=1.\n",
      "  warnings.warn(\n",
      "C:\\ProgramData\\anaconda3\\Lib\\site-packages\\sklearn\\cluster\\_kmeans.py:1412: FutureWarning: The default value of `n_init` will change from 10 to 'auto' in 1.4. Set the value of `n_init` explicitly to suppress the warning\n",
      "  super()._check_params_vs_input(X, default_n_init=10)\n",
      "C:\\ProgramData\\anaconda3\\Lib\\site-packages\\sklearn\\cluster\\_kmeans.py:1436: UserWarning: KMeans is known to have a memory leak on Windows with MKL, when there are less chunks than available threads. You can avoid it by setting the environment variable OMP_NUM_THREADS=1.\n",
      "  warnings.warn(\n",
      "C:\\ProgramData\\anaconda3\\Lib\\site-packages\\sklearn\\cluster\\_kmeans.py:1412: FutureWarning: The default value of `n_init` will change from 10 to 'auto' in 1.4. Set the value of `n_init` explicitly to suppress the warning\n",
      "  super()._check_params_vs_input(X, default_n_init=10)\n",
      "C:\\ProgramData\\anaconda3\\Lib\\site-packages\\sklearn\\cluster\\_kmeans.py:1436: UserWarning: KMeans is known to have a memory leak on Windows with MKL, when there are less chunks than available threads. You can avoid it by setting the environment variable OMP_NUM_THREADS=1.\n",
      "  warnings.warn(\n",
      "C:\\ProgramData\\anaconda3\\Lib\\site-packages\\sklearn\\cluster\\_kmeans.py:1412: FutureWarning: The default value of `n_init` will change from 10 to 'auto' in 1.4. Set the value of `n_init` explicitly to suppress the warning\n",
      "  super()._check_params_vs_input(X, default_n_init=10)\n",
      "C:\\ProgramData\\anaconda3\\Lib\\site-packages\\sklearn\\cluster\\_kmeans.py:1436: UserWarning: KMeans is known to have a memory leak on Windows with MKL, when there are less chunks than available threads. You can avoid it by setting the environment variable OMP_NUM_THREADS=1.\n",
      "  warnings.warn(\n",
      "C:\\ProgramData\\anaconda3\\Lib\\site-packages\\sklearn\\cluster\\_kmeans.py:1412: FutureWarning: The default value of `n_init` will change from 10 to 'auto' in 1.4. Set the value of `n_init` explicitly to suppress the warning\n",
      "  super()._check_params_vs_input(X, default_n_init=10)\n",
      "C:\\ProgramData\\anaconda3\\Lib\\site-packages\\sklearn\\cluster\\_kmeans.py:1436: UserWarning: KMeans is known to have a memory leak on Windows with MKL, when there are less chunks than available threads. You can avoid it by setting the environment variable OMP_NUM_THREADS=1.\n",
      "  warnings.warn(\n",
      "C:\\ProgramData\\anaconda3\\Lib\\site-packages\\sklearn\\cluster\\_kmeans.py:1412: FutureWarning: The default value of `n_init` will change from 10 to 'auto' in 1.4. Set the value of `n_init` explicitly to suppress the warning\n",
      "  super()._check_params_vs_input(X, default_n_init=10)\n",
      "C:\\ProgramData\\anaconda3\\Lib\\site-packages\\sklearn\\cluster\\_kmeans.py:1436: UserWarning: KMeans is known to have a memory leak on Windows with MKL, when there are less chunks than available threads. You can avoid it by setting the environment variable OMP_NUM_THREADS=1.\n",
      "  warnings.warn(\n"
     ]
    }
   ],
   "source": [
    "#to find the optimal value of k\n",
    "#wcss\n",
    "from sklearn.cluster import KMeans\n",
    "km_inertia=[]\n",
    "for k in range(1,21):\n",
    "    km=KMeans(n_clusters=k)\n",
    "    km.fit(df_new)\n",
    "    km_inertia.append(km.inertia_)"
   ]
  },
  {
   "cell_type": "code",
   "execution_count": 12,
   "id": "a59229d8",
   "metadata": {},
   "outputs": [
    {
     "data": {
      "text/plain": [
       "[1673624.5000000002,\n",
       " 440146.70193894394,\n",
       " 333284.19425315177,\n",
       " 251784.2631742431,\n",
       " 190614.98937010003,\n",
       " 157456.86162913858,\n",
       " 128103.86974124276,\n",
       " 98872.53614968808,\n",
       " 78123.1679864186,\n",
       " 68268.7971397816,\n",
       " 60966.69050731877,\n",
       " 53672.09515185723,\n",
       " 49019.66868455875,\n",
       " 43199.68894080829,\n",
       " 40944.85427757821,\n",
       " 37522.4055423259,\n",
       " 35879.972919101165,\n",
       " 31893.44965442359,\n",
       " 29739.782815053164,\n",
       " 27218.94958274857]"
      ]
     },
     "execution_count": 12,
     "metadata": {},
     "output_type": "execute_result"
    }
   ],
   "source": [
    "km_inertia"
   ]
  },
  {
   "cell_type": "code",
   "execution_count": 13,
   "id": "868569cc",
   "metadata": {},
   "outputs": [
    {
     "data": {
      "image/png": "[encoded data removed]",
      "text/plain": [
       "<Figure size 640x480 with 1 Axes>"
      ]
     },
     "metadata": {},
     "output_type": "display_data"
    }
   ],
   "source": [
    "plt.scatter(range(1,21),km_inertia)\n",
    "plt.plot(range(1,21),km_inertia)\n",
    "plt.show()"
   ]
  },
  {
   "cell_type": "code",
   "execution_count": 15,
   "id": "2390e051",
   "metadata": {},
   "outputs": [
    {
     "name": "stderr",
     "output_type": "stream",
     "text": [
      "C:\\ProgramData\\anaconda3\\Lib\\site-packages\\sklearn\\cluster\\_kmeans.py:1412: FutureWarning: The default value of `n_init` will change from 10 to 'auto' in 1.4. Set the value of `n_init` explicitly to suppress the warning\n",
      "  super()._check_params_vs_input(X, default_n_init=10)\n",
      "C:\\ProgramData\\anaconda3\\Lib\\site-packages\\sklearn\\cluster\\_kmeans.py:1436: UserWarning: KMeans is known to have a memory leak on Windows with MKL, when there are less chunks than available threads. You can avoid it by setting the environment variable OMP_NUM_THREADS=1.\n",
      "  warnings.warn(\n"
     ]
    },
    {
     "data": {
      "text/html": [
       "<style>#sk-container-id-1 {color: black;}#sk-container-id-1 pre{padding: 0;}#sk-container-id-1 div.sk-toggleable {background-color: white;}#sk-container-id-1 label.sk-toggleable__label {cursor: pointer;display: block;width: 100%;margin-bottom: 0;padding: 0.3em;box-sizing: border-box;text-align: center;}#sk-container-id-1 label.sk-toggleable__label-arrow:before {content: \"▸\";float: left;margin-right: 0.25em;color: #696969;}#sk-container-id-1 label.sk-toggleable__label-arrow:hover:before {color: black;}#sk-container-id-1 div.sk-estimator:hover label.sk-toggleable__label-arrow:before {color: black;}#sk-container-id-1 div.sk-toggleable__content {max-height: 0;max-width: 0;overflow: hidden;text-align: left;background-color: #f0f8ff;}#sk-container-id-1 div.sk-toggleable__content pre {margin: 0.2em;color: black;border-radius: 0.25em;background-color: #f0f8ff;}#sk-container-id-1 input.sk-toggleable__control:checked~div.sk-toggleable__content {max-height: 200px;max-width: 100%;overflow: auto;}#sk-container-id-1 input.sk-toggleable__control:checked~label.sk-toggleable__label-arrow:before {content: \"▾\";}#sk-container-id-1 div.sk-estimator input.sk-toggleable__control:checked~label.sk-toggleable__label {background-color: #d4ebff;}#sk-container-id-1 div.sk-label input.sk-toggleable__control:checked~label.sk-toggleable__label {background-color: #d4ebff;}#sk-container-id-1 input.sk-hidden--visually {border: 0;clip: rect(1px 1px 1px 1px);clip: rect(1px, 1px, 1px, 1px);height: 1px;margin: -1px;overflow: hidden;padding: 0;position: absolute;width: 1px;}#sk-container-id-1 div.sk-estimator {font-family: monospace;background-color: #f0f8ff;border: 1px dotted black;border-radius: 0.25em;box-sizing: border-box;margin-bottom: 0.5em;}#sk-container-id-1 div.sk-estimator:hover {background-color: #d4ebff;}#sk-container-id-1 div.sk-parallel-item::after {content: \"\";width: 100%;border-bottom: 1px solid gray;flex-grow: 1;}#sk-container-id-1 div.sk-label:hover label.sk-toggleable__label {background-color: #d4ebff;}#sk-container-id-1 div.sk-serial::before {content: \"\";position: absolute;border-left: 1px solid gray;box-sizing: border-box;top: 0;bottom: 0;left: 50%;z-index: 0;}#sk-container-id-1 div.sk-serial {display: flex;flex-direction: column;align-items: center;background-color: white;padding-right: 0.2em;padding-left: 0.2em;position: relative;}#sk-container-id-1 div.sk-item {position: relative;z-index: 1;}#sk-container-id-1 div.sk-parallel {display: flex;align-items: stretch;justify-content: center;background-color: white;position: relative;}#sk-container-id-1 div.sk-item::before, #sk-container-id-1 div.sk-parallel-item::before {content: \"\";position: absolute;border-left: 1px solid gray;box-sizing: border-box;top: 0;bottom: 0;left: 50%;z-index: -1;}#sk-container-id-1 div.sk-parallel-item {display: flex;flex-direction: column;z-index: 1;position: relative;background-color: white;}#sk-container-id-1 div.sk-parallel-item:first-child::after {align-self: flex-end;width: 50%;}#sk-container-id-1 div.sk-parallel-item:last-child::after {align-self: flex-start;width: 50%;}#sk-container-id-1 div.sk-parallel-item:only-child::after {width: 0;}#sk-container-id-1 div.sk-dashed-wrapped {border: 1px dashed gray;margin: 0 0.4em 0.5em 0.4em;box-sizing: border-box;padding-bottom: 0.4em;background-color: white;}#sk-container-id-1 div.sk-label label {font-family: monospace;font-weight: bold;display: inline-block;line-height: 1.2em;}#sk-container-id-1 div.sk-label-container {text-align: center;}#sk-container-id-1 div.sk-container {/* jupyter's `normalize.less` sets `[hidden] { display: none; }` but bootstrap.min.css set `[hidden] { display: none !important; }` so we also need the `!important` here to be able to override the default hidden behavior on the sphinx rendered scikit-learn.org. See: https://github.com/scikit-learn/scikit-learn/issues/21755 */display: inline-block !important;position: relative;}#sk-container-id-1 div.sk-text-repr-fallback {display: none;}</style><div id=\"sk-container-id-1\" class=\"sk-top-container\"><div class=\"sk-text-repr-fallback\"><pre>KMeans(n_clusters=5)</pre><b>In a Jupyter environment, please rerun this cell to show the HTML representation or trust the notebook. <br />On GitHub, the HTML representation is unable to render, please try loading this page with nbviewer.org.</b></div><div class=\"sk-container\" hidden><div class=\"sk-item\"><div class=\"sk-estimator sk-toggleable\"><input class=\"sk-toggleable__control sk-hidden--visually\" id=\"sk-estimator-id-1\" type=\"checkbox\" checked><label for=\"sk-estimator-id-1\" class=\"sk-toggleable__label sk-toggleable__label-arrow\">KMeans</label><div class=\"sk-toggleable__content\"><pre>KMeans(n_clusters=5)</pre></div></div></div></div></div>"
      ],
      "text/plain": [
       "KMeans(n_clusters=5)"
      ]
     },
     "execution_count": 15,
     "metadata": {},
     "output_type": "execute_result"
    }
   ],
   "source": [
    "km=KMeans(n_clusters=5)\n",
    "km.fit(df_new)"
   ]
  },
  {
   "cell_type": "code",
   "execution_count": 18,
   "id": "fe8ac9bd",
   "metadata": {},
   "outputs": [],
   "source": [
    "cluster_num=km.predict(df_new)"
   ]
  },
  {
   "cell_type": "code",
   "execution_count": 19,
   "id": "0e185358",
   "metadata": {},
   "outputs": [
    {
     "data": {
      "text/html": [
       "<div>\n",
       "<style scoped>\n",
       "    .dataframe tbody tr th:only-of-type {\n",
       "        vertical-align: middle;\n",
       "    }\n",
       "\n",
       "    .dataframe tbody tr th {\n",
       "        vertical-align: top;\n",
       "    }\n",
       "\n",
       "    .dataframe thead th {\n",
       "        text-align: right;\n",
       "    }\n",
       "</style>\n",
       "<table border=\"1\" class=\"dataframe\">\n",
       "  <thead>\n",
       "    <tr style=\"text-align: right;\">\n",
       "      <th></th>\n",
       "      <th>Annual Income (k$)</th>\n",
       "      <th>Spending Score (1-100)</th>\n",
       "    </tr>\n",
       "  </thead>\n",
       "  <tbody>\n",
       "    <tr>\n",
       "      <th>0</th>\n",
       "      <td>15</td>\n",
       "      <td>39</td>\n",
       "    </tr>\n",
       "    <tr>\n",
       "      <th>1</th>\n",
       "      <td>15</td>\n",
       "      <td>81</td>\n",
       "    </tr>\n",
       "    <tr>\n",
       "      <th>2</th>\n",
       "      <td>16</td>\n",
       "      <td>6</td>\n",
       "    </tr>\n",
       "    <tr>\n",
       "      <th>3</th>\n",
       "      <td>16</td>\n",
       "      <td>77</td>\n",
       "    </tr>\n",
       "    <tr>\n",
       "      <th>4</th>\n",
       "      <td>17</td>\n",
       "      <td>40</td>\n",
       "    </tr>\n",
       "    <tr>\n",
       "      <th>...</th>\n",
       "      <td>...</td>\n",
       "      <td>...</td>\n",
       "    </tr>\n",
       "    <tr>\n",
       "      <th>245</th>\n",
       "      <td>297</td>\n",
       "      <td>69</td>\n",
       "    </tr>\n",
       "    <tr>\n",
       "      <th>246</th>\n",
       "      <td>311</td>\n",
       "      <td>14</td>\n",
       "    </tr>\n",
       "    <tr>\n",
       "      <th>247</th>\n",
       "      <td>313</td>\n",
       "      <td>90</td>\n",
       "    </tr>\n",
       "    <tr>\n",
       "      <th>248</th>\n",
       "      <td>316</td>\n",
       "      <td>32</td>\n",
       "    </tr>\n",
       "    <tr>\n",
       "      <th>249</th>\n",
       "      <td>325</td>\n",
       "      <td>86</td>\n",
       "    </tr>\n",
       "  </tbody>\n",
       "</table>\n",
       "<p>250 rows × 2 columns</p>\n",
       "</div>"
      ],
      "text/plain": [
       "     Annual Income (k$)  Spending Score (1-100)\n",
       "0                    15                      39\n",
       "1                    15                      81\n",
       "2                    16                       6\n",
       "3                    16                      77\n",
       "4                    17                      40\n",
       "..                  ...                     ...\n",
       "245                 297                      69\n",
       "246                 311                      14\n",
       "247                 313                      90\n",
       "248                 316                      32\n",
       "249                 325                      86\n",
       "\n",
       "[250 rows x 2 columns]"
      ]
     },
     "execution_count": 19,
     "metadata": {},
     "output_type": "execute_result"
    }
   ],
   "source": [
    "df_new"
   ]
  },
  {
   "cell_type": "code",
   "execution_count": 20,
   "id": "9ad00b4f",
   "metadata": {},
   "outputs": [
    {
     "data": {
      "text/plain": [
       "array([2, 2, 2, 2, 2, 2, 2, 2, 2, 2, 2, 2, 2, 2, 2, 2, 2, 2, 2, 2, 2, 2,\n",
       "       2, 2, 2, 2, 2, 2, 2, 2, 2, 2, 2, 2, 2, 2, 2, 2, 2, 2, 2, 2, 2, 2,\n",
       "       2, 2, 2, 2, 2, 2, 2, 2, 2, 2, 2, 2, 2, 2, 2, 2, 2, 2, 2, 2, 2, 2,\n",
       "       2, 2, 2, 2, 2, 2, 2, 2, 2, 2, 2, 2, 2, 2, 2, 2, 2, 2, 2, 2, 2, 2,\n",
       "       2, 2, 2, 2, 2, 2, 2, 2, 2, 2, 2, 2, 2, 2, 2, 2, 2, 2, 2, 2, 2, 2,\n",
       "       2, 2, 2, 2, 2, 2, 2, 2, 2, 2, 2, 2, 2, 0, 3, 0, 3, 0, 3, 0, 3, 0,\n",
       "       3, 0, 3, 0, 3, 0, 3, 0, 3, 0, 3, 0, 3, 0, 3, 0, 3, 0, 3, 0, 3, 0,\n",
       "       3, 0, 3, 0, 3, 0, 3, 0, 3, 0, 3, 0, 3, 0, 3, 0, 3, 0, 3, 0, 3, 0,\n",
       "       3, 0, 3, 0, 3, 0, 3, 0, 3, 0, 3, 0, 3, 0, 3, 0, 3, 0, 3, 0, 3, 0,\n",
       "       3, 0, 4, 4, 4, 4, 4, 4, 4, 4, 4, 4, 4, 4, 4, 4, 4, 4, 4, 4, 4, 4,\n",
       "       1, 1, 1, 1, 1, 1, 1, 1, 1, 1, 1, 1, 1, 1, 1, 1, 1, 1, 1, 1, 1, 1,\n",
       "       1, 1, 1, 1, 1, 1, 1, 1])"
      ]
     },
     "execution_count": 20,
     "metadata": {},
     "output_type": "execute_result"
    }
   ],
   "source": [
    "cluster_num"
   ]
  },
  {
   "cell_type": "code",
   "execution_count": 21,
   "id": "1e6831da",
   "metadata": {},
   "outputs": [],
   "source": [
    "df_1=df_new[cluster_num==0]\n",
    "df_2=df_new[cluster_num==1]\n",
    "df_3=df_new[cluster_num==2]\n",
    "df_4=df_new[cluster_num==3]\n",
    "df_5=df_new[cluster_num==4]"
   ]
  },
  {
   "cell_type": "code",
   "execution_count": 23,
   "id": "b96dfd73",
   "metadata": {},
   "outputs": [
    {
     "data": {
      "image/png": "[encoded data removed]",
      "text/plain": [
       "<Figure size 640x480 with 1 Axes>"
      ]
     },
     "metadata": {},
     "output_type": "display_data"
    }
   ],
   "source": [
    "plt.scatter(df_1.iloc[:,0],df_1.iloc[:,1],color='green')\n",
    "plt.scatter(df_2.iloc[:,0],df_2.iloc[:,1],color='red')\n",
    "plt.scatter(df_3.iloc[:,0],df_3.iloc[:,1],color='blue')\n",
    "plt.scatter(df_4.iloc[:,0],df_4.iloc[:,1],color='yellow')\n",
    "plt.scatter(df_5.iloc[:,0],df_5.iloc[:,1],color='pink')\n",
    "plt.show()"
   ]
  },
  {
   "cell_type": "code",
   "execution_count": null,
   "id": "7251ed40",
   "metadata": {},
   "outputs": [],
   "source": [
    "#performing clustering with all the features"
   ]
  },
  {
   "cell_type": "code",
   "execution_count": 24,
   "id": "19103ca0",
   "metadata": {},
   "outputs": [],
   "source": [
    "df.drop('CustomerID',axis=1,inplace=True)"
   ]
  },
  {
   "cell_type": "code",
   "execution_count": 25,
   "id": "13b9022b",
   "metadata": {},
   "outputs": [
    {
     "data": {
      "text/html": [
       "<div>\n",
       "<style scoped>\n",
       "    .dataframe tbody tr th:only-of-type {\n",
       "        vertical-align: middle;\n",
       "    }\n",
       "\n",
       "    .dataframe tbody tr th {\n",
       "        vertical-align: top;\n",
       "    }\n",
       "\n",
       "    .dataframe thead th {\n",
       "        text-align: right;\n",
       "    }\n",
       "</style>\n",
       "<table border=\"1\" class=\"dataframe\">\n",
       "  <thead>\n",
       "    <tr style=\"text-align: right;\">\n",
       "      <th></th>\n",
       "      <th>Gender</th>\n",
       "      <th>Age</th>\n",
       "      <th>Annual Income (k$)</th>\n",
       "      <th>Spending Score (1-100)</th>\n",
       "    </tr>\n",
       "  </thead>\n",
       "  <tbody>\n",
       "    <tr>\n",
       "      <th>0</th>\n",
       "      <td>Male</td>\n",
       "      <td>19</td>\n",
       "      <td>15</td>\n",
       "      <td>39</td>\n",
       "    </tr>\n",
       "    <tr>\n",
       "      <th>1</th>\n",
       "      <td>Male</td>\n",
       "      <td>21</td>\n",
       "      <td>15</td>\n",
       "      <td>81</td>\n",
       "    </tr>\n",
       "    <tr>\n",
       "      <th>2</th>\n",
       "      <td>Female</td>\n",
       "      <td>20</td>\n",
       "      <td>16</td>\n",
       "      <td>6</td>\n",
       "    </tr>\n",
       "    <tr>\n",
       "      <th>3</th>\n",
       "      <td>Female</td>\n",
       "      <td>23</td>\n",
       "      <td>16</td>\n",
       "      <td>77</td>\n",
       "    </tr>\n",
       "    <tr>\n",
       "      <th>4</th>\n",
       "      <td>Female</td>\n",
       "      <td>31</td>\n",
       "      <td>17</td>\n",
       "      <td>40</td>\n",
       "    </tr>\n",
       "    <tr>\n",
       "      <th>...</th>\n",
       "      <td>...</td>\n",
       "      <td>...</td>\n",
       "      <td>...</td>\n",
       "      <td>...</td>\n",
       "    </tr>\n",
       "    <tr>\n",
       "      <th>245</th>\n",
       "      <td>Male</td>\n",
       "      <td>30</td>\n",
       "      <td>297</td>\n",
       "      <td>69</td>\n",
       "    </tr>\n",
       "    <tr>\n",
       "      <th>246</th>\n",
       "      <td>Female</td>\n",
       "      <td>56</td>\n",
       "      <td>311</td>\n",
       "      <td>14</td>\n",
       "    </tr>\n",
       "    <tr>\n",
       "      <th>247</th>\n",
       "      <td>Male</td>\n",
       "      <td>29</td>\n",
       "      <td>313</td>\n",
       "      <td>90</td>\n",
       "    </tr>\n",
       "    <tr>\n",
       "      <th>248</th>\n",
       "      <td>Female</td>\n",
       "      <td>19</td>\n",
       "      <td>316</td>\n",
       "      <td>32</td>\n",
       "    </tr>\n",
       "    <tr>\n",
       "      <th>249</th>\n",
       "      <td>Female</td>\n",
       "      <td>31</td>\n",
       "      <td>325</td>\n",
       "      <td>86</td>\n",
       "    </tr>\n",
       "  </tbody>\n",
       "</table>\n",
       "<p>250 rows × 4 columns</p>\n",
       "</div>"
      ],
      "text/plain": [
       "     Gender  Age  Annual Income (k$)  Spending Score (1-100)\n",
       "0      Male   19                  15                      39\n",
       "1      Male   21                  15                      81\n",
       "2    Female   20                  16                       6\n",
       "3    Female   23                  16                      77\n",
       "4    Female   31                  17                      40\n",
       "..      ...  ...                 ...                     ...\n",
       "245    Male   30                 297                      69\n",
       "246  Female   56                 311                      14\n",
       "247    Male   29                 313                      90\n",
       "248  Female   19                 316                      32\n",
       "249  Female   31                 325                      86\n",
       "\n",
       "[250 rows x 4 columns]"
      ]
     },
     "execution_count": 25,
     "metadata": {},
     "output_type": "execute_result"
    }
   ],
   "source": [
    "df"
   ]
  },
  {
   "cell_type": "code",
   "execution_count": 26,
   "id": "126fb9fd",
   "metadata": {},
   "outputs": [],
   "source": [
    "#categorical encoding\n",
    "df['Gender'].replace('Male',0,inplace=True)\n",
    "df['Gender'].replace('Female',1,inplace=True)"
   ]
  },
  {
   "cell_type": "code",
   "execution_count": 27,
   "id": "baeaa96e",
   "metadata": {},
   "outputs": [
    {
     "data": {
      "text/html": [
       "<div>\n",
       "<style scoped>\n",
       "    .dataframe tbody tr th:only-of-type {\n",
       "        vertical-align: middle;\n",
       "    }\n",
       "\n",
       "    .dataframe tbody tr th {\n",
       "        vertical-align: top;\n",
       "    }\n",
       "\n",
       "    .dataframe thead th {\n",
       "        text-align: right;\n",
       "    }\n",
       "</style>\n",
       "<table border=\"1\" class=\"dataframe\">\n",
       "  <thead>\n",
       "    <tr style=\"text-align: right;\">\n",
       "      <th></th>\n",
       "      <th>Gender</th>\n",
       "      <th>Age</th>\n",
       "      <th>Annual Income (k$)</th>\n",
       "      <th>Spending Score (1-100)</th>\n",
       "    </tr>\n",
       "  </thead>\n",
       "  <tbody>\n",
       "    <tr>\n",
       "      <th>0</th>\n",
       "      <td>0</td>\n",
       "      <td>19</td>\n",
       "      <td>15</td>\n",
       "      <td>39</td>\n",
       "    </tr>\n",
       "    <tr>\n",
       "      <th>1</th>\n",
       "      <td>0</td>\n",
       "      <td>21</td>\n",
       "      <td>15</td>\n",
       "      <td>81</td>\n",
       "    </tr>\n",
       "    <tr>\n",
       "      <th>2</th>\n",
       "      <td>1</td>\n",
       "      <td>20</td>\n",
       "      <td>16</td>\n",
       "      <td>6</td>\n",
       "    </tr>\n",
       "    <tr>\n",
       "      <th>3</th>\n",
       "      <td>1</td>\n",
       "      <td>23</td>\n",
       "      <td>16</td>\n",
       "      <td>77</td>\n",
       "    </tr>\n",
       "    <tr>\n",
       "      <th>4</th>\n",
       "      <td>1</td>\n",
       "      <td>31</td>\n",
       "      <td>17</td>\n",
       "      <td>40</td>\n",
       "    </tr>\n",
       "    <tr>\n",
       "      <th>...</th>\n",
       "      <td>...</td>\n",
       "      <td>...</td>\n",
       "      <td>...</td>\n",
       "      <td>...</td>\n",
       "    </tr>\n",
       "    <tr>\n",
       "      <th>245</th>\n",
       "      <td>0</td>\n",
       "      <td>30</td>\n",
       "      <td>297</td>\n",
       "      <td>69</td>\n",
       "    </tr>\n",
       "    <tr>\n",
       "      <th>246</th>\n",
       "      <td>1</td>\n",
       "      <td>56</td>\n",
       "      <td>311</td>\n",
       "      <td>14</td>\n",
       "    </tr>\n",
       "    <tr>\n",
       "      <th>247</th>\n",
       "      <td>0</td>\n",
       "      <td>29</td>\n",
       "      <td>313</td>\n",
       "      <td>90</td>\n",
       "    </tr>\n",
       "    <tr>\n",
       "      <th>248</th>\n",
       "      <td>1</td>\n",
       "      <td>19</td>\n",
       "      <td>316</td>\n",
       "      <td>32</td>\n",
       "    </tr>\n",
       "    <tr>\n",
       "      <th>249</th>\n",
       "      <td>1</td>\n",
       "      <td>31</td>\n",
       "      <td>325</td>\n",
       "      <td>86</td>\n",
       "    </tr>\n",
       "  </tbody>\n",
       "</table>\n",
       "<p>250 rows × 4 columns</p>\n",
       "</div>"
      ],
      "text/plain": [
       "     Gender  Age  Annual Income (k$)  Spending Score (1-100)\n",
       "0         0   19                  15                      39\n",
       "1         0   21                  15                      81\n",
       "2         1   20                  16                       6\n",
       "3         1   23                  16                      77\n",
       "4         1   31                  17                      40\n",
       "..      ...  ...                 ...                     ...\n",
       "245       0   30                 297                      69\n",
       "246       1   56                 311                      14\n",
       "247       0   29                 313                      90\n",
       "248       1   19                 316                      32\n",
       "249       1   31                 325                      86\n",
       "\n",
       "[250 rows x 4 columns]"
      ]
     },
     "execution_count": 27,
     "metadata": {},
     "output_type": "execute_result"
    }
   ],
   "source": [
    "df"
   ]
  },
  {
   "cell_type": "code",
   "execution_count": 28,
   "id": "92b529e4",
   "metadata": {},
   "outputs": [
    {
     "data": {
      "text/html": [
       "<div>\n",
       "<style scoped>\n",
       "    .dataframe tbody tr th:only-of-type {\n",
       "        vertical-align: middle;\n",
       "    }\n",
       "\n",
       "    .dataframe tbody tr th {\n",
       "        vertical-align: top;\n",
       "    }\n",
       "\n",
       "    .dataframe thead th {\n",
       "        text-align: right;\n",
       "    }\n",
       "</style>\n",
       "<table border=\"1\" class=\"dataframe\">\n",
       "  <thead>\n",
       "    <tr style=\"text-align: right;\">\n",
       "      <th></th>\n",
       "      <th>Gender</th>\n",
       "      <th>Age</th>\n",
       "      <th>Annual Income (k$)</th>\n",
       "      <th>Spending Score (1-100)</th>\n",
       "    </tr>\n",
       "  </thead>\n",
       "  <tbody>\n",
       "    <tr>\n",
       "      <th>count</th>\n",
       "      <td>250.000000</td>\n",
       "      <td>250.00000</td>\n",
       "      <td>250.000000</td>\n",
       "      <td>250.000000</td>\n",
       "    </tr>\n",
       "    <tr>\n",
       "      <th>mean</th>\n",
       "      <td>0.548000</td>\n",
       "      <td>38.49200</td>\n",
       "      <td>95.592000</td>\n",
       "      <td>50.244000</td>\n",
       "    </tr>\n",
       "    <tr>\n",
       "      <th>std</th>\n",
       "      <td>0.498689</td>\n",
       "      <td>13.17026</td>\n",
       "      <td>77.308758</td>\n",
       "      <td>27.289914</td>\n",
       "    </tr>\n",
       "    <tr>\n",
       "      <th>min</th>\n",
       "      <td>0.000000</td>\n",
       "      <td>18.00000</td>\n",
       "      <td>15.000000</td>\n",
       "      <td>1.000000</td>\n",
       "    </tr>\n",
       "    <tr>\n",
       "      <th>25%</th>\n",
       "      <td>0.000000</td>\n",
       "      <td>29.00000</td>\n",
       "      <td>47.000000</td>\n",
       "      <td>27.000000</td>\n",
       "    </tr>\n",
       "    <tr>\n",
       "      <th>50%</th>\n",
       "      <td>1.000000</td>\n",
       "      <td>36.00000</td>\n",
       "      <td>70.000000</td>\n",
       "      <td>50.000000</td>\n",
       "    </tr>\n",
       "    <tr>\n",
       "      <th>75%</th>\n",
       "      <td>1.000000</td>\n",
       "      <td>47.75000</td>\n",
       "      <td>101.000000</td>\n",
       "      <td>74.000000</td>\n",
       "    </tr>\n",
       "    <tr>\n",
       "      <th>max</th>\n",
       "      <td>1.000000</td>\n",
       "      <td>70.00000</td>\n",
       "      <td>325.000000</td>\n",
       "      <td>99.000000</td>\n",
       "    </tr>\n",
       "  </tbody>\n",
       "</table>\n",
       "</div>"
      ],
      "text/plain": [
       "           Gender        Age  Annual Income (k$)  Spending Score (1-100)\n",
       "count  250.000000  250.00000          250.000000              250.000000\n",
       "mean     0.548000   38.49200           95.592000               50.244000\n",
       "std      0.498689   13.17026           77.308758               27.289914\n",
       "min      0.000000   18.00000           15.000000                1.000000\n",
       "25%      0.000000   29.00000           47.000000               27.000000\n",
       "50%      1.000000   36.00000           70.000000               50.000000\n",
       "75%      1.000000   47.75000          101.000000               74.000000\n",
       "max      1.000000   70.00000          325.000000               99.000000"
      ]
     },
     "execution_count": 28,
     "metadata": {},
     "output_type": "execute_result"
    }
   ],
   "source": [
    "df.describe()"
   ]
  },
  {
   "cell_type": "code",
   "execution_count": null,
   "id": "ecbb59e2",
   "metadata": {},
   "outputs": [],
   "source": [
    "#feature scaling"
   ]
  },
  {
   "cell_type": "code",
   "execution_count": 29,
   "id": "9c4fd4e0",
   "metadata": {},
   "outputs": [
    {
     "name": "stderr",
     "output_type": "stream",
     "text": [
      "C:\\Users\\shiva\\AppData\\Local\\Temp\\ipykernel_34260\\3255828239.py:1: UserWarning: \n",
      "\n",
      "`distplot` is a deprecated function and will be removed in seaborn v0.14.0.\n",
      "\n",
      "Please adapt your code to use either `displot` (a figure-level function with\n",
      "similar flexibility) or `histplot` (an axes-level function for histograms).\n",
      "\n",
      "For a guide to updating your code to use the new functions, please see\n",
      "https://gist.github.com/mwaskom/de44147ed2974457ad6372750bbe5751\n",
      "\n",
      "  sns.distplot(df['Age'])\n"
     ]
    },
    {
     "data": {
      "text/plain": [
       "<Axes: xlabel='Age', ylabel='Density'>"
      ]
     },
     "execution_count": 29,
     "metadata": {},
     "output_type": "execute_result"
    },
    {
     "data": {
      "image/png": "[encoded data removed]",
      "text/plain": [
       "<Figure size 640x480 with 1 Axes>"
      ]
     },
     "metadata": {},
     "output_type": "display_data"
    }
   ],
   "source": [
    "sns.distplot(df['Age'])"
   ]
  },
  {
   "cell_type": "code",
   "execution_count": 30,
   "id": "2406ed78",
   "metadata": {},
   "outputs": [
    {
     "name": "stderr",
     "output_type": "stream",
     "text": [
      "C:\\Users\\shiva\\AppData\\Local\\Temp\\ipykernel_34260\\1994242243.py:1: UserWarning: \n",
      "\n",
      "`distplot` is a deprecated function and will be removed in seaborn v0.14.0.\n",
      "\n",
      "Please adapt your code to use either `displot` (a figure-level function with\n",
      "similar flexibility) or `histplot` (an axes-level function for histograms).\n",
      "\n",
      "For a guide to updating your code to use the new functions, please see\n",
      "https://gist.github.com/mwaskom/de44147ed2974457ad6372750bbe5751\n",
      "\n",
      "  sns.distplot(df['Annual Income (k$)'])\n"
     ]
    },
    {
     "data": {
      "text/plain": [
       "<Axes: xlabel='Annual Income (k$)', ylabel='Density'>"
      ]
     },
     "execution_count": 30,
     "metadata": {},
     "output_type": "execute_result"
    },
    {
     "data": {
      "image/png": "[encoded data removed]",
      "text/plain": [
       "<Figure size 640x480 with 1 Axes>"
      ]
     },
     "metadata": {},
     "output_type": "display_data"
    }
   ],
   "source": [
    "sns.distplot(df['Annual Income (k$)'])"
   ]
  },
  {
   "cell_type": "code",
   "execution_count": 31,
   "id": "19fbcdd4",
   "metadata": {},
   "outputs": [
    {
     "name": "stderr",
     "output_type": "stream",
     "text": [
      "C:\\Users\\shiva\\AppData\\Local\\Temp\\ipykernel_34260\\3737231236.py:1: UserWarning: \n",
      "\n",
      "`distplot` is a deprecated function and will be removed in seaborn v0.14.0.\n",
      "\n",
      "Please adapt your code to use either `displot` (a figure-level function with\n",
      "similar flexibility) or `histplot` (an axes-level function for histograms).\n",
      "\n",
      "For a guide to updating your code to use the new functions, please see\n",
      "https://gist.github.com/mwaskom/de44147ed2974457ad6372750bbe5751\n",
      "\n",
      "  sns.distplot(df['Spending Score (1-100)'])\n"
     ]
    },
    {
     "data": {
      "text/plain": [
       "<Axes: xlabel='Spending Score (1-100)', ylabel='Density'>"
      ]
     },
     "execution_count": 31,
     "metadata": {},
     "output_type": "execute_result"
    },
    {
     "data": {
      "image/png": "[encoded data removed]",
      "text/plain": [
       "<Figure size 640x480 with 1 Axes>"
      ]
     },
     "metadata": {},
     "output_type": "display_data"
    }
   ],
   "source": [
    "sns.distplot(df['Spending Score (1-100)'])"
   ]
  },
  {
   "cell_type": "code",
   "execution_count": 34,
   "id": "16fb392d",
   "metadata": {},
   "outputs": [],
   "source": [
    "from sklearn.preprocessing import MinMaxScaler\n",
    "mn=MinMaxScaler()\n",
    "X_new=mn.fit_transform(df)"
   ]
  },
  {
   "cell_type": "code",
   "execution_count": 36,
   "id": "36c70537",
   "metadata": {},
   "outputs": [
    {
     "data": {
      "text/plain": [
       "array([[0.        , 0.01923077, 0.        , 0.3877551 ],\n",
       "       [0.        , 0.05769231, 0.        , 0.81632653],\n",
       "       [1.        , 0.03846154, 0.00322581, 0.05102041],\n",
       "       [1.        , 0.09615385, 0.00322581, 0.7755102 ],\n",
       "       [1.        , 0.25      , 0.00645161, 0.39795918],\n",
       "       [1.        , 0.07692308, 0.00645161, 0.76530612],\n",
       "       [1.        , 0.32692308, 0.00967742, 0.05102041],\n",
       "       [1.        , 0.09615385, 0.00967742, 0.94897959],\n",
       "       [0.        , 0.88461538, 0.01290323, 0.02040816],\n",
       "       [1.        , 0.23076923, 0.01290323, 0.7244898 ],\n",
       "       [0.        , 0.94230769, 0.01290323, 0.13265306],\n",
       "       [1.        , 0.32692308, 0.01290323, 1.        ],\n",
       "       [1.        , 0.76923077, 0.01612903, 0.14285714],\n",
       "       [1.        , 0.11538462, 0.01612903, 0.7755102 ],\n",
       "       [0.        , 0.36538462, 0.01612903, 0.12244898],\n",
       "       [0.        , 0.07692308, 0.01612903, 0.79591837],\n",
       "       [1.        , 0.32692308, 0.01935484, 0.34693878],\n",
       "       [0.        , 0.03846154, 0.01935484, 0.66326531],\n",
       "       [0.        , 0.65384615, 0.02580645, 0.28571429],\n",
       "       [1.        , 0.32692308, 0.02580645, 0.98979592],\n",
       "       [0.        , 0.32692308, 0.02903226, 0.34693878],\n",
       "       [0.        , 0.13461538, 0.02903226, 0.73469388],\n",
       "       [1.        , 0.53846154, 0.03225806, 0.04081633],\n",
       "       [0.        , 0.25      , 0.03225806, 0.73469388],\n",
       "       [1.        , 0.69230769, 0.04193548, 0.13265306],\n",
       "       [0.        , 0.21153846, 0.04193548, 0.82653061],\n",
       "       [1.        , 0.51923077, 0.04193548, 0.31632653],\n",
       "       [0.        , 0.32692308, 0.04193548, 0.6122449 ],\n",
       "       [1.        , 0.42307692, 0.04516129, 0.30612245],\n",
       "       [1.        , 0.09615385, 0.04516129, 0.87755102],\n",
       "       [0.        , 0.80769231, 0.0483871 , 0.03061224],\n",
       "       [1.        , 0.05769231, 0.0483871 , 0.73469388],\n",
       "       [0.        , 0.67307692, 0.05806452, 0.03061224],\n",
       "       [0.        , 0.        , 0.05806452, 0.92857143],\n",
       "       [1.        , 0.59615385, 0.05806452, 0.13265306],\n",
       "       [1.        , 0.05769231, 0.05806452, 0.81632653],\n",
       "       [1.        , 0.46153846, 0.06129032, 0.16326531],\n",
       "       [1.        , 0.23076923, 0.06129032, 0.73469388],\n",
       "       [1.        , 0.34615385, 0.07096774, 0.25510204],\n",
       "       [1.        , 0.03846154, 0.07096774, 0.75510204],\n",
       "       [1.        , 0.90384615, 0.07419355, 0.34693878],\n",
       "       [0.        , 0.11538462, 0.07419355, 0.92857143],\n",
       "       [0.        , 0.57692308, 0.07741935, 0.35714286],\n",
       "       [1.        , 0.25      , 0.07741935, 0.6122449 ],\n",
       "       [1.        , 0.59615385, 0.07741935, 0.2755102 ],\n",
       "       [1.        , 0.11538462, 0.07741935, 0.65306122],\n",
       "       [1.        , 0.61538462, 0.08064516, 0.55102041],\n",
       "       [1.        , 0.17307692, 0.08064516, 0.46938776],\n",
       "       [1.        , 0.21153846, 0.08064516, 0.41836735],\n",
       "       [1.        , 0.25      , 0.08064516, 0.41836735],\n",
       "       [1.        , 0.59615385, 0.08709677, 0.52040816],\n",
       "       [0.        , 0.28846154, 0.08709677, 0.60204082],\n",
       "       [1.        , 0.25      , 0.09032258, 0.54081633],\n",
       "       [0.        , 0.78846154, 0.09032258, 0.60204082],\n",
       "       [1.        , 0.61538462, 0.09032258, 0.44897959],\n",
       "       [0.        , 0.55769231, 0.09032258, 0.40816327],\n",
       "       [1.        , 0.63461538, 0.09354839, 0.5       ],\n",
       "       [0.        , 0.98076923, 0.09354839, 0.45918367],\n",
       "       [1.        , 0.17307692, 0.1       , 0.51020408],\n",
       "       [0.        , 0.67307692, 0.1       , 0.45918367],\n",
       "       [0.        , 1.        , 0.1       , 0.56122449],\n",
       "       [0.        , 0.01923077, 0.1       , 0.55102041],\n",
       "       [1.        , 0.94230769, 0.10322581, 0.52040816],\n",
       "       [1.        , 0.69230769, 0.10322581, 0.59183673],\n",
       "       [0.        , 0.86538462, 0.10645161, 0.51020408],\n",
       "       [0.        , 0.        , 0.10645161, 0.59183673],\n",
       "       [1.        , 0.48076923, 0.10645161, 0.5       ],\n",
       "       [1.        , 0.96153846, 0.10645161, 0.47959184],\n",
       "       [0.        , 0.01923077, 0.10645161, 0.59183673],\n",
       "       [1.        , 0.26923077, 0.10645161, 0.46938776],\n",
       "       [0.        , 1.        , 0.10967742, 0.55102041],\n",
       "       [1.        , 0.55769231, 0.10967742, 0.41836735],\n",
       "       [1.        , 0.80769231, 0.11290323, 0.48979592],\n",
       "       [1.        , 0.80769231, 0.11290323, 0.56122449],\n",
       "       [0.        , 0.78846154, 0.12580645, 0.46938776],\n",
       "       [0.        , 0.15384615, 0.12580645, 0.54081633],\n",
       "       [1.        , 0.51923077, 0.12580645, 0.53061224],\n",
       "       [0.        , 0.42307692, 0.12580645, 0.47959184],\n",
       "       [1.        , 0.09615385, 0.12580645, 0.52040816],\n",
       "       [1.        , 0.59615385, 0.12580645, 0.41836735],\n",
       "       [0.        , 0.75      , 0.12580645, 0.51020408],\n",
       "       [0.        , 0.38461538, 0.12580645, 0.55102041],\n",
       "       [0.        , 0.94230769, 0.12580645, 0.40816327],\n",
       "       [1.        , 0.53846154, 0.12580645, 0.43877551],\n",
       "       [1.        , 0.05769231, 0.12580645, 0.57142857],\n",
       "       [0.        , 0.57692308, 0.12580645, 0.45918367],\n",
       "       [1.        , 0.71153846, 0.13548387, 0.58163265],\n",
       "       [1.        , 0.07692308, 0.13548387, 0.55102041],\n",
       "       [1.        , 0.30769231, 0.13870968, 0.60204082],\n",
       "       [1.        , 0.61538462, 0.13870968, 0.45918367],\n",
       "       [1.        , 0.96153846, 0.14193548, 0.55102041],\n",
       "       [0.        , 0.        , 0.14193548, 0.40816327],\n",
       "       [0.        , 0.57692308, 0.14516129, 0.48979592],\n",
       "       [1.        , 0.42307692, 0.14516129, 0.39795918],\n",
       "       [1.        , 0.26923077, 0.14516129, 0.41836735],\n",
       "       [0.        , 0.11538462, 0.14516129, 0.52040816],\n",
       "       [1.        , 0.55769231, 0.14516129, 0.46938776],\n",
       "       [1.        , 0.17307692, 0.14516129, 0.5       ],\n",
       "       [0.        , 0.57692308, 0.1483871 , 0.41836735],\n",
       "       [0.        , 0.03846154, 0.1483871 , 0.48979592],\n",
       "       [1.        , 0.09615385, 0.1516129 , 0.40816327],\n",
       "       [1.        , 0.59615385, 0.1516129 , 0.47959184],\n",
       "       [0.        , 0.94230769, 0.1516129 , 0.59183673],\n",
       "       [0.        , 0.15384615, 0.1516129 , 0.55102041],\n",
       "       [0.        , 0.59615385, 0.1516129 , 0.56122449],\n",
       "       [1.        , 0.05769231, 0.1516129 , 0.41836735],\n",
       "       [1.        , 0.92307692, 0.15483871, 0.5       ],\n",
       "       [0.        , 0.69230769, 0.15483871, 0.45918367],\n",
       "       [0.        , 0.96153846, 0.15483871, 0.42857143],\n",
       "       [0.        , 0.92307692, 0.15483871, 0.47959184],\n",
       "       [0.        , 0.90384615, 0.15483871, 0.52040816],\n",
       "       [1.        , 0.01923077, 0.15483871, 0.54081633],\n",
       "       [1.        , 0.38461538, 0.15806452, 0.41836735],\n",
       "       [0.        , 0.01923077, 0.15806452, 0.45918367],\n",
       "       [1.        , 0.        , 0.16129032, 0.47959184],\n",
       "       [1.        , 0.01923077, 0.16129032, 0.5       ],\n",
       "       [1.        , 0.86538462, 0.16129032, 0.42857143],\n",
       "       [1.        , 0.59615385, 0.16129032, 0.59183673],\n",
       "       [1.        , 0.63461538, 0.16774194, 0.42857143],\n",
       "       [1.        , 0.61538462, 0.16774194, 0.57142857],\n",
       "       [0.        , 0.17307692, 0.16774194, 0.56122449],\n",
       "       [1.        , 0.38461538, 0.16774194, 0.39795918],\n",
       "       [1.        , 0.42307692, 0.17419355, 0.58163265],\n",
       "       [0.        , 0.40384615, 0.17419355, 0.91836735],\n",
       "       [1.        , 0.09615385, 0.17741935, 0.28571429],\n",
       "       [1.        , 0.25      , 0.17741935, 0.7755102 ],\n",
       "       [0.        , 0.48076923, 0.18064516, 0.34693878],\n",
       "       [0.        , 0.42307692, 0.18064516, 0.95918367],\n",
       "       [0.        , 0.78846154, 0.18064516, 0.10204082],\n",
       "       [0.        , 0.38461538, 0.18064516, 0.75510204],\n",
       "       [0.        , 0.55769231, 0.18064516, 0.08163265],\n",
       "       [0.        , 0.40384615, 0.18064516, 0.75510204],\n",
       "       [1.        , 0.13461538, 0.18387097, 0.33673469],\n",
       "       [1.        , 0.25      , 0.18387097, 0.71428571],\n",
       "       [0.        , 0.03846154, 0.18709677, 0.04081633],\n",
       "       [1.        , 0.21153846, 0.18709677, 0.8877551 ],\n",
       "       [1.        , 0.5       , 0.18709677, 0.06122449],\n",
       "       [0.        , 0.26923077, 0.18709677, 0.73469388],\n",
       "       [0.        , 0.01923077, 0.19032258, 0.09183673],\n",
       "       [1.        , 0.32692308, 0.19032258, 0.7244898 ],\n",
       "       [1.        , 0.75      , 0.19354839, 0.04081633],\n",
       "       [0.        , 0.26923077, 0.19354839, 0.93877551],\n",
       "       [1.        , 0.19230769, 0.19677419, 0.39795918],\n",
       "       [1.        , 0.26923077, 0.19677419, 0.87755102],\n",
       "       [0.        , 0.13461538, 0.2       , 0.1122449 ],\n",
       "       [0.        , 0.19230769, 0.2       , 0.97959184],\n",
       "       [0.        , 0.57692308, 0.2       , 0.35714286],\n",
       "       [1.        , 0.26923077, 0.2       , 0.74489796],\n",
       "       [1.        , 0.30769231, 0.20322581, 0.21428571],\n",
       "       [0.        , 0.30769231, 0.20322581, 0.90816327],\n",
       "       [0.        , 0.48076923, 0.20322581, 0.16326531],\n",
       "       [0.        , 0.40384615, 0.20322581, 0.8877551 ],\n",
       "       [1.        , 0.5       , 0.20322581, 0.19387755],\n",
       "       [1.        , 0.38461538, 0.20322581, 0.76530612],\n",
       "       [1.        , 0.55769231, 0.20322581, 0.15306122],\n",
       "       [1.        , 0.17307692, 0.20322581, 0.89795918],\n",
       "       [0.        , 0.36538462, 0.20322581, 0.        ],\n",
       "       [1.        , 0.23076923, 0.20322581, 0.78571429],\n",
       "       [0.        , 0.30769231, 0.20322581, 0.        ],\n",
       "       [1.        , 0.23076923, 0.20322581, 0.73469388],\n",
       "       [1.        , 0.73076923, 0.20645161, 0.34693878],\n",
       "       [1.        , 0.21153846, 0.20645161, 0.83673469],\n",
       "       [0.        , 0.01923077, 0.21290323, 0.04081633],\n",
       "       [1.        , 0.25      , 0.21290323, 0.93877551],\n",
       "       [0.        , 0.61538462, 0.22580645, 0.25510204],\n",
       "       [1.        , 0.34615385, 0.22580645, 0.75510204],\n",
       "       [0.        , 0.46153846, 0.22903226, 0.19387755],\n",
       "       [1.        , 0.28846154, 0.22903226, 0.95918367],\n",
       "       [1.        , 0.34615385, 0.23225806, 0.26530612],\n",
       "       [0.        , 0.26923077, 0.23225806, 0.63265306],\n",
       "       [0.        , 0.42307692, 0.23225806, 0.12244898],\n",
       "       [0.        , 0.19230769, 0.23225806, 0.75510204],\n",
       "       [0.        , 0.34615385, 0.23225806, 0.09183673],\n",
       "       [0.        , 0.34615385, 0.23225806, 0.92857143],\n",
       "       [1.        , 0.65384615, 0.23548387, 0.12244898],\n",
       "       [1.        , 0.23076923, 0.23548387, 0.86734694],\n",
       "       [0.        , 0.76923077, 0.23548387, 0.14285714],\n",
       "       [0.        , 0.17307692, 0.23548387, 0.69387755],\n",
       "       [0.        , 0.78846154, 0.2516129 , 0.13265306],\n",
       "       [0.        , 0.32692308, 0.2516129 , 0.90816327],\n",
       "       [1.        , 0.36538462, 0.26451613, 0.31632653],\n",
       "       [1.        , 0.26923077, 0.26451613, 0.86734694],\n",
       "       [0.        , 0.53846154, 0.26774194, 0.14285714],\n",
       "       [1.        , 0.21153846, 0.26774194, 0.8877551 ],\n",
       "       [1.        , 0.44230769, 0.27096774, 0.3877551 ],\n",
       "       [0.        , 0.23076923, 0.27096774, 0.97959184],\n",
       "       [1.        , 0.69230769, 0.27741935, 0.23469388],\n",
       "       [0.        , 0.19230769, 0.27741935, 0.68367347],\n",
       "       [1.        , 0.44230769, 0.28387097, 0.16326531],\n",
       "       [1.        , 0.34615385, 0.28387097, 0.85714286],\n",
       "       [1.        , 0.30769231, 0.28387097, 0.2244898 ],\n",
       "       [1.        , 0.26923077, 0.28387097, 0.69387755],\n",
       "       [0.        , 0.28846154, 0.31612903, 0.07142857],\n",
       "       [1.        , 0.38461538, 0.31612903, 0.91836735],\n",
       "       [1.        , 0.55769231, 0.33870968, 0.15306122],\n",
       "       [1.        , 0.32692308, 0.33870968, 0.79591837],\n",
       "       [1.        , 0.51923077, 0.35806452, 0.2755102 ],\n",
       "       [0.        , 0.26923077, 0.35806452, 0.74489796],\n",
       "       [0.        , 0.26923077, 0.39354839, 0.17346939],\n",
       "       [0.        , 0.23076923, 0.39354839, 0.83673469],\n",
       "       [0.        , 0.48076923, 0.40322581, 0.25510204],\n",
       "       [0.        , 0.40384615, 0.40645161, 0.75510204],\n",
       "       [1.        , 0.5       , 0.4516129 , 0.19387755],\n",
       "       [1.        , 0.38461538, 0.45806452, 0.95918367],\n",
       "       [0.        , 0.55769231, 0.46129032, 0.26530612],\n",
       "       [0.        , 0.17307692, 0.46774194, 0.63265306],\n",
       "       [0.        , 0.36538462, 0.49032258, 0.12244898],\n",
       "       [1.        , 0.23076923, 0.52258065, 0.75510204],\n",
       "       [1.        , 0.30769231, 0.55806452, 0.09183673],\n",
       "       [1.        , 0.23076923, 0.56129032, 0.92857143],\n",
       "       [1.        , 0.73076923, 0.56451613, 0.12244898],\n",
       "       [0.        , 0.21153846, 0.57096774, 0.86734694],\n",
       "       [1.        , 0.01923077, 0.57741935, 0.14285714],\n",
       "       [0.        , 0.25      , 0.57741935, 0.69387755],\n",
       "       [1.        , 0.61538462, 0.59677419, 0.13265306],\n",
       "       [1.        , 0.34615385, 0.6       , 0.90816327],\n",
       "       [1.        , 0.46153846, 0.62258065, 0.31632653],\n",
       "       [0.        , 0.28846154, 0.63870968, 0.86734694],\n",
       "       [1.        , 0.34615385, 0.63870968, 0.14285714],\n",
       "       [0.        , 0.26923077, 0.66774194, 0.8877551 ],\n",
       "       [1.        , 0.42307692, 0.69354839, 0.3877551 ],\n",
       "       [0.        , 0.19230769, 0.70322581, 0.97959184],\n",
       "       [1.        , 0.34615385, 0.70645161, 0.23469388],\n",
       "       [1.        , 0.34615385, 0.71935484, 0.68367347],\n",
       "       [0.        , 0.65384615, 0.72580645, 0.16326531],\n",
       "       [0.        , 0.23076923, 0.7516129 , 0.85714286],\n",
       "       [0.        , 0.76923077, 0.75806452, 0.2244898 ],\n",
       "       [0.        , 0.17307692, 0.77419355, 0.69387755],\n",
       "       [0.        , 0.78846154, 0.77419355, 0.07142857],\n",
       "       [1.        , 0.32692308, 0.77741935, 0.91836735],\n",
       "       [1.        , 0.36538462, 0.78387097, 0.15306122],\n",
       "       [0.        , 0.26923077, 0.79032258, 0.79591837],\n",
       "       [0.        , 0.53846154, 0.80967742, 0.25510204],\n",
       "       [0.        , 0.21153846, 0.81290323, 0.75510204],\n",
       "       [0.        , 0.44230769, 0.81290323, 0.19387755],\n",
       "       [0.        , 0.23076923, 0.81612903, 0.95918367],\n",
       "       [1.        , 0.48076923, 0.83225806, 0.26530612],\n",
       "       [1.        , 0.40384615, 0.83870968, 0.63265306],\n",
       "       [0.        , 0.5       , 0.83870968, 0.12244898],\n",
       "       [0.        , 0.38461538, 0.83870968, 0.75510204],\n",
       "       [0.        , 0.55769231, 0.8483871 , 0.09183673],\n",
       "       [1.        , 0.17307692, 0.88064516, 0.92857143],\n",
       "       [1.        , 0.36538462, 0.88064516, 0.12244898],\n",
       "       [1.        , 0.23076923, 0.89354839, 0.86734694],\n",
       "       [1.        , 0.30769231, 0.90645161, 0.14285714],\n",
       "       [0.        , 0.23076923, 0.90967742, 0.69387755],\n",
       "       [1.        , 0.73076923, 0.95483871, 0.13265306],\n",
       "       [0.        , 0.21153846, 0.96129032, 0.90816327],\n",
       "       [1.        , 0.01923077, 0.97096774, 0.31632653],\n",
       "       [1.        , 0.25      , 1.        , 0.86734694]])"
      ]
     },
     "execution_count": 36,
     "metadata": {},
     "output_type": "execute_result"
    }
   ],
   "source": [
    "X_new"
   ]
  },
  {
   "cell_type": "code",
   "execution_count": 37,
   "id": "e2198dcb",
   "metadata": {},
   "outputs": [
    {
     "data": {
      "text/plain": [
       "<matplotlib.collections.PathCollection at 0x25325fbd7d0>"
      ]
     },
     "execution_count": 37,
     "metadata": {},
     "output_type": "execute_result"
    },
    {
     "data": {
      "image/png": "[encoded data removed]",
      "text/plain": [
       "<Figure size 640x480 with 1 Axes>"
      ]
     },
     "metadata": {},
     "output_type": "display_data"
    }
   ],
   "source": [
    "#annual income vs spending score\n",
    "plt.scatter(X_new[:][:,2],X_new[:][:,3])"
   ]
  },
  {
   "cell_type": "code",
   "execution_count": 38,
   "id": "5d9d95c1",
   "metadata": {},
   "outputs": [
    {
     "name": "stderr",
     "output_type": "stream",
     "text": [
      "C:\\ProgramData\\anaconda3\\Lib\\site-packages\\sklearn\\cluster\\_kmeans.py:1412: FutureWarning: The default value of `n_init` will change from 10 to 'auto' in 1.4. Set the value of `n_init` explicitly to suppress the warning\n",
      "  super()._check_params_vs_input(X, default_n_init=10)\n",
      "C:\\ProgramData\\anaconda3\\Lib\\site-packages\\sklearn\\cluster\\_kmeans.py:1436: UserWarning: KMeans is known to have a memory leak on Windows with MKL, when there are less chunks than available threads. You can avoid it by setting the environment variable OMP_NUM_THREADS=1.\n",
      "  warnings.warn(\n",
      "C:\\ProgramData\\anaconda3\\Lib\\site-packages\\sklearn\\cluster\\_kmeans.py:1412: FutureWarning: The default value of `n_init` will change from 10 to 'auto' in 1.4. Set the value of `n_init` explicitly to suppress the warning\n",
      "  super()._check_params_vs_input(X, default_n_init=10)\n",
      "C:\\ProgramData\\anaconda3\\Lib\\site-packages\\sklearn\\cluster\\_kmeans.py:1436: UserWarning: KMeans is known to have a memory leak on Windows with MKL, when there are less chunks than available threads. You can avoid it by setting the environment variable OMP_NUM_THREADS=1.\n",
      "  warnings.warn(\n",
      "C:\\ProgramData\\anaconda3\\Lib\\site-packages\\sklearn\\cluster\\_kmeans.py:1412: FutureWarning: The default value of `n_init` will change from 10 to 'auto' in 1.4. Set the value of `n_init` explicitly to suppress the warning\n",
      "  super()._check_params_vs_input(X, default_n_init=10)\n",
      "C:\\ProgramData\\anaconda3\\Lib\\site-packages\\sklearn\\cluster\\_kmeans.py:1436: UserWarning: KMeans is known to have a memory leak on Windows with MKL, when there are less chunks than available threads. You can avoid it by setting the environment variable OMP_NUM_THREADS=1.\n",
      "  warnings.warn(\n",
      "C:\\ProgramData\\anaconda3\\Lib\\site-packages\\sklearn\\cluster\\_kmeans.py:1412: FutureWarning: The default value of `n_init` will change from 10 to 'auto' in 1.4. Set the value of `n_init` explicitly to suppress the warning\n",
      "  super()._check_params_vs_input(X, default_n_init=10)\n",
      "C:\\ProgramData\\anaconda3\\Lib\\site-packages\\sklearn\\cluster\\_kmeans.py:1436: UserWarning: KMeans is known to have a memory leak on Windows with MKL, when there are less chunks than available threads. You can avoid it by setting the environment variable OMP_NUM_THREADS=1.\n",
      "  warnings.warn(\n",
      "C:\\ProgramData\\anaconda3\\Lib\\site-packages\\sklearn\\cluster\\_kmeans.py:1412: FutureWarning: The default value of `n_init` will change from 10 to 'auto' in 1.4. Set the value of `n_init` explicitly to suppress the warning\n",
      "  super()._check_params_vs_input(X, default_n_init=10)\n",
      "C:\\ProgramData\\anaconda3\\Lib\\site-packages\\sklearn\\cluster\\_kmeans.py:1436: UserWarning: KMeans is known to have a memory leak on Windows with MKL, when there are less chunks than available threads. You can avoid it by setting the environment variable OMP_NUM_THREADS=1.\n",
      "  warnings.warn(\n",
      "C:\\ProgramData\\anaconda3\\Lib\\site-packages\\sklearn\\cluster\\_kmeans.py:1412: FutureWarning: The default value of `n_init` will change from 10 to 'auto' in 1.4. Set the value of `n_init` explicitly to suppress the warning\n",
      "  super()._check_params_vs_input(X, default_n_init=10)\n",
      "C:\\ProgramData\\anaconda3\\Lib\\site-packages\\sklearn\\cluster\\_kmeans.py:1436: UserWarning: KMeans is known to have a memory leak on Windows with MKL, when there are less chunks than available threads. You can avoid it by setting the environment variable OMP_NUM_THREADS=1.\n",
      "  warnings.warn(\n",
      "C:\\ProgramData\\anaconda3\\Lib\\site-packages\\sklearn\\cluster\\_kmeans.py:1412: FutureWarning: The default value of `n_init` will change from 10 to 'auto' in 1.4. Set the value of `n_init` explicitly to suppress the warning\n",
      "  super()._check_params_vs_input(X, default_n_init=10)\n",
      "C:\\ProgramData\\anaconda3\\Lib\\site-packages\\sklearn\\cluster\\_kmeans.py:1436: UserWarning: KMeans is known to have a memory leak on Windows with MKL, when there are less chunks than available threads. You can avoid it by setting the environment variable OMP_NUM_THREADS=1.\n",
      "  warnings.warn(\n",
      "C:\\ProgramData\\anaconda3\\Lib\\site-packages\\sklearn\\cluster\\_kmeans.py:1412: FutureWarning: The default value of `n_init` will change from 10 to 'auto' in 1.4. Set the value of `n_init` explicitly to suppress the warning\n",
      "  super()._check_params_vs_input(X, default_n_init=10)\n",
      "C:\\ProgramData\\anaconda3\\Lib\\site-packages\\sklearn\\cluster\\_kmeans.py:1436: UserWarning: KMeans is known to have a memory leak on Windows with MKL, when there are less chunks than available threads. You can avoid it by setting the environment variable OMP_NUM_THREADS=1.\n",
      "  warnings.warn(\n",
      "C:\\ProgramData\\anaconda3\\Lib\\site-packages\\sklearn\\cluster\\_kmeans.py:1412: FutureWarning: The default value of `n_init` will change from 10 to 'auto' in 1.4. Set the value of `n_init` explicitly to suppress the warning\n",
      "  super()._check_params_vs_input(X, default_n_init=10)\n",
      "C:\\ProgramData\\anaconda3\\Lib\\site-packages\\sklearn\\cluster\\_kmeans.py:1436: UserWarning: KMeans is known to have a memory leak on Windows with MKL, when there are less chunks than available threads. You can avoid it by setting the environment variable OMP_NUM_THREADS=1.\n",
      "  warnings.warn(\n",
      "C:\\ProgramData\\anaconda3\\Lib\\site-packages\\sklearn\\cluster\\_kmeans.py:1412: FutureWarning: The default value of `n_init` will change from 10 to 'auto' in 1.4. Set the value of `n_init` explicitly to suppress the warning\n",
      "  super()._check_params_vs_input(X, default_n_init=10)\n",
      "C:\\ProgramData\\anaconda3\\Lib\\site-packages\\sklearn\\cluster\\_kmeans.py:1436: UserWarning: KMeans is known to have a memory leak on Windows with MKL, when there are less chunks than available threads. You can avoid it by setting the environment variable OMP_NUM_THREADS=1.\n",
      "  warnings.warn(\n",
      "C:\\ProgramData\\anaconda3\\Lib\\site-packages\\sklearn\\cluster\\_kmeans.py:1412: FutureWarning: The default value of `n_init` will change from 10 to 'auto' in 1.4. Set the value of `n_init` explicitly to suppress the warning\n",
      "  super()._check_params_vs_input(X, default_n_init=10)\n",
      "C:\\ProgramData\\anaconda3\\Lib\\site-packages\\sklearn\\cluster\\_kmeans.py:1436: UserWarning: KMeans is known to have a memory leak on Windows with MKL, when there are less chunks than available threads. You can avoid it by setting the environment variable OMP_NUM_THREADS=1.\n",
      "  warnings.warn(\n",
      "C:\\ProgramData\\anaconda3\\Lib\\site-packages\\sklearn\\cluster\\_kmeans.py:1412: FutureWarning: The default value of `n_init` will change from 10 to 'auto' in 1.4. Set the value of `n_init` explicitly to suppress the warning\n",
      "  super()._check_params_vs_input(X, default_n_init=10)\n",
      "C:\\ProgramData\\anaconda3\\Lib\\site-packages\\sklearn\\cluster\\_kmeans.py:1436: UserWarning: KMeans is known to have a memory leak on Windows with MKL, when there are less chunks than available threads. You can avoid it by setting the environment variable OMP_NUM_THREADS=1.\n",
      "  warnings.warn(\n",
      "C:\\ProgramData\\anaconda3\\Lib\\site-packages\\sklearn\\cluster\\_kmeans.py:1412: FutureWarning: The default value of `n_init` will change from 10 to 'auto' in 1.4. Set the value of `n_init` explicitly to suppress the warning\n",
      "  super()._check_params_vs_input(X, default_n_init=10)\n",
      "C:\\ProgramData\\anaconda3\\Lib\\site-packages\\sklearn\\cluster\\_kmeans.py:1436: UserWarning: KMeans is known to have a memory leak on Windows with MKL, when there are less chunks than available threads. You can avoid it by setting the environment variable OMP_NUM_THREADS=1.\n",
      "  warnings.warn(\n",
      "C:\\ProgramData\\anaconda3\\Lib\\site-packages\\sklearn\\cluster\\_kmeans.py:1412: FutureWarning: The default value of `n_init` will change from 10 to 'auto' in 1.4. Set the value of `n_init` explicitly to suppress the warning\n",
      "  super()._check_params_vs_input(X, default_n_init=10)\n",
      "C:\\ProgramData\\anaconda3\\Lib\\site-packages\\sklearn\\cluster\\_kmeans.py:1436: UserWarning: KMeans is known to have a memory leak on Windows with MKL, when there are less chunks than available threads. You can avoid it by setting the environment variable OMP_NUM_THREADS=1.\n",
      "  warnings.warn(\n",
      "C:\\ProgramData\\anaconda3\\Lib\\site-packages\\sklearn\\cluster\\_kmeans.py:1412: FutureWarning: The default value of `n_init` will change from 10 to 'auto' in 1.4. Set the value of `n_init` explicitly to suppress the warning\n",
      "  super()._check_params_vs_input(X, default_n_init=10)\n",
      "C:\\ProgramData\\anaconda3\\Lib\\site-packages\\sklearn\\cluster\\_kmeans.py:1436: UserWarning: KMeans is known to have a memory leak on Windows with MKL, when there are less chunks than available threads. You can avoid it by setting the environment variable OMP_NUM_THREADS=1.\n",
      "  warnings.warn(\n",
      "C:\\ProgramData\\anaconda3\\Lib\\site-packages\\sklearn\\cluster\\_kmeans.py:1412: FutureWarning: The default value of `n_init` will change from 10 to 'auto' in 1.4. Set the value of `n_init` explicitly to suppress the warning\n",
      "  super()._check_params_vs_input(X, default_n_init=10)\n",
      "C:\\ProgramData\\anaconda3\\Lib\\site-packages\\sklearn\\cluster\\_kmeans.py:1436: UserWarning: KMeans is known to have a memory leak on Windows with MKL, when there are less chunks than available threads. You can avoid it by setting the environment variable OMP_NUM_THREADS=1.\n",
      "  warnings.warn(\n",
      "C:\\ProgramData\\anaconda3\\Lib\\site-packages\\sklearn\\cluster\\_kmeans.py:1412: FutureWarning: The default value of `n_init` will change from 10 to 'auto' in 1.4. Set the value of `n_init` explicitly to suppress the warning\n",
      "  super()._check_params_vs_input(X, default_n_init=10)\n",
      "C:\\ProgramData\\anaconda3\\Lib\\site-packages\\sklearn\\cluster\\_kmeans.py:1436: UserWarning: KMeans is known to have a memory leak on Windows with MKL, when there are less chunks than available threads. You can avoid it by setting the environment variable OMP_NUM_THREADS=1.\n",
      "  warnings.warn(\n",
      "C:\\ProgramData\\anaconda3\\Lib\\site-packages\\sklearn\\cluster\\_kmeans.py:1412: FutureWarning: The default value of `n_init` will change from 10 to 'auto' in 1.4. Set the value of `n_init` explicitly to suppress the warning\n",
      "  super()._check_params_vs_input(X, default_n_init=10)\n",
      "C:\\ProgramData\\anaconda3\\Lib\\site-packages\\sklearn\\cluster\\_kmeans.py:1436: UserWarning: KMeans is known to have a memory leak on Windows with MKL, when there are less chunks than available threads. You can avoid it by setting the environment variable OMP_NUM_THREADS=1.\n",
      "  warnings.warn(\n",
      "C:\\ProgramData\\anaconda3\\Lib\\site-packages\\sklearn\\cluster\\_kmeans.py:1412: FutureWarning: The default value of `n_init` will change from 10 to 'auto' in 1.4. Set the value of `n_init` explicitly to suppress the warning\n",
      "  super()._check_params_vs_input(X, default_n_init=10)\n",
      "C:\\ProgramData\\anaconda3\\Lib\\site-packages\\sklearn\\cluster\\_kmeans.py:1436: UserWarning: KMeans is known to have a memory leak on Windows with MKL, when there are less chunks than available threads. You can avoid it by setting the environment variable OMP_NUM_THREADS=1.\n",
      "  warnings.warn(\n",
      "C:\\ProgramData\\anaconda3\\Lib\\site-packages\\sklearn\\cluster\\_kmeans.py:1412: FutureWarning: The default value of `n_init` will change from 10 to 'auto' in 1.4. Set the value of `n_init` explicitly to suppress the warning\n",
      "  super()._check_params_vs_input(X, default_n_init=10)\n",
      "C:\\ProgramData\\anaconda3\\Lib\\site-packages\\sklearn\\cluster\\_kmeans.py:1436: UserWarning: KMeans is known to have a memory leak on Windows with MKL, when there are less chunks than available threads. You can avoid it by setting the environment variable OMP_NUM_THREADS=1.\n",
      "  warnings.warn(\n"
     ]
    }
   ],
   "source": [
    "#to find the optimal value of k\n",
    "#wcss\n",
    "from sklearn.cluster import KMeans\n",
    "k_inertia=[]\n",
    "for k in range(1,21):\n",
    "    km=KMeans(n_clusters=k)\n",
    "    km.fit(X_new)\n",
    "    k_inertia.append(km.inertia_)"
   ]
  },
  {
   "cell_type": "code",
   "execution_count": 39,
   "id": "3a42d043",
   "metadata": {},
   "outputs": [
    {
     "data": {
      "text/plain": [
       "[112.69123525202106,\n",
       " 50.67294080082114,\n",
       " 39.96314500058596,\n",
       " 30.93743211029901,\n",
       " 25.560391536559024,\n",
       " 21.999478205315256,\n",
       " 18.412731377195048,\n",
       " 16.083186039395365,\n",
       " 14.19609898096026,\n",
       " 12.231541283648749,\n",
       " 10.74402637526832,\n",
       " 9.695874559858428,\n",
       " 8.902048547863252,\n",
       " 8.444675713516824,\n",
       " 7.860275550855791,\n",
       " 7.319271447840313,\n",
       " 6.810184036177169,\n",
       " 6.497786516258683,\n",
       " 6.031215251633547,\n",
       " 5.687857558431187]"
      ]
     },
     "execution_count": 39,
     "metadata": {},
     "output_type": "execute_result"
    }
   ],
   "source": [
    "k_inertia"
   ]
  },
  {
   "cell_type": "code",
   "execution_count": 40,
   "id": "dafb0ce5",
   "metadata": {},
   "outputs": [
    {
     "data": {
      "image/png": "[encoded data removed]",
      "text/plain": [
       "<Figure size 640x480 with 1 Axes>"
      ]
     },
     "metadata": {},
     "output_type": "display_data"
    }
   ],
   "source": [
    "plt.scatter(range(1,21),k_inertia)\n",
    "plt.plot(range(1,21),k_inertia)\n",
    "plt.show()"
   ]
  },
  {
   "cell_type": "code",
   "execution_count": 41,
   "id": "f2558a05",
   "metadata": {},
   "outputs": [
    {
     "name": "stderr",
     "output_type": "stream",
     "text": [
      "C:\\ProgramData\\anaconda3\\Lib\\site-packages\\sklearn\\cluster\\_kmeans.py:1412: FutureWarning: The default value of `n_init` will change from 10 to 'auto' in 1.4. Set the value of `n_init` explicitly to suppress the warning\n",
      "  super()._check_params_vs_input(X, default_n_init=10)\n",
      "C:\\ProgramData\\anaconda3\\Lib\\site-packages\\sklearn\\cluster\\_kmeans.py:1436: UserWarning: KMeans is known to have a memory leak on Windows with MKL, when there are less chunks than available threads. You can avoid it by setting the environment variable OMP_NUM_THREADS=1.\n",
      "  warnings.warn(\n"
     ]
    },
    {
     "data": {
      "text/html": [
       "<style>#sk-container-id-2 {color: black;}#sk-container-id-2 pre{padding: 0;}#sk-container-id-2 div.sk-toggleable {background-color: white;}#sk-container-id-2 label.sk-toggleable__label {cursor: pointer;display: block;width: 100%;margin-bottom: 0;padding: 0.3em;box-sizing: border-box;text-align: center;}#sk-container-id-2 label.sk-toggleable__label-arrow:before {content: \"▸\";float: left;margin-right: 0.25em;color: #696969;}#sk-container-id-2 label.sk-toggleable__label-arrow:hover:before {color: black;}#sk-container-id-2 div.sk-estimator:hover label.sk-toggleable__label-arrow:before {color: black;}#sk-container-id-2 div.sk-toggleable__content {max-height: 0;max-width: 0;overflow: hidden;text-align: left;background-color: #f0f8ff;}#sk-container-id-2 div.sk-toggleable__content pre {margin: 0.2em;color: black;border-radius: 0.25em;background-color: #f0f8ff;}#sk-container-id-2 input.sk-toggleable__control:checked~div.sk-toggleable__content {max-height: 200px;max-width: 100%;overflow: auto;}#sk-container-id-2 input.sk-toggleable__control:checked~label.sk-toggleable__label-arrow:before {content: \"▾\";}#sk-container-id-2 div.sk-estimator input.sk-toggleable__control:checked~label.sk-toggleable__label {background-color: #d4ebff;}#sk-container-id-2 div.sk-label input.sk-toggleable__control:checked~label.sk-toggleable__label {background-color: #d4ebff;}#sk-container-id-2 input.sk-hidden--visually {border: 0;clip: rect(1px 1px 1px 1px);clip: rect(1px, 1px, 1px, 1px);height: 1px;margin: -1px;overflow: hidden;padding: 0;position: absolute;width: 1px;}#sk-container-id-2 div.sk-estimator {font-family: monospace;background-color: #f0f8ff;border: 1px dotted black;border-radius: 0.25em;box-sizing: border-box;margin-bottom: 0.5em;}#sk-container-id-2 div.sk-estimator:hover {background-color: #d4ebff;}#sk-container-id-2 div.sk-parallel-item::after {content: \"\";width: 100%;border-bottom: 1px solid gray;flex-grow: 1;}#sk-container-id-2 div.sk-label:hover label.sk-toggleable__label {background-color: #d4ebff;}#sk-container-id-2 div.sk-serial::before {content: \"\";position: absolute;border-left: 1px solid gray;box-sizing: border-box;top: 0;bottom: 0;left: 50%;z-index: 0;}#sk-container-id-2 div.sk-serial {display: flex;flex-direction: column;align-items: center;background-color: white;padding-right: 0.2em;padding-left: 0.2em;position: relative;}#sk-container-id-2 div.sk-item {position: relative;z-index: 1;}#sk-container-id-2 div.sk-parallel {display: flex;align-items: stretch;justify-content: center;background-color: white;position: relative;}#sk-container-id-2 div.sk-item::before, #sk-container-id-2 div.sk-parallel-item::before {content: \"\";position: absolute;border-left: 1px solid gray;box-sizing: border-box;top: 0;bottom: 0;left: 50%;z-index: -1;}#sk-container-id-2 div.sk-parallel-item {display: flex;flex-direction: column;z-index: 1;position: relative;background-color: white;}#sk-container-id-2 div.sk-parallel-item:first-child::after {align-self: flex-end;width: 50%;}#sk-container-id-2 div.sk-parallel-item:last-child::after {align-self: flex-start;width: 50%;}#sk-container-id-2 div.sk-parallel-item:only-child::after {width: 0;}#sk-container-id-2 div.sk-dashed-wrapped {border: 1px dashed gray;margin: 0 0.4em 0.5em 0.4em;box-sizing: border-box;padding-bottom: 0.4em;background-color: white;}#sk-container-id-2 div.sk-label label {font-family: monospace;font-weight: bold;display: inline-block;line-height: 1.2em;}#sk-container-id-2 div.sk-label-container {text-align: center;}#sk-container-id-2 div.sk-container {/* jupyter's `normalize.less` sets `[hidden] { display: none; }` but bootstrap.min.css set `[hidden] { display: none !important; }` so we also need the `!important` here to be able to override the default hidden behavior on the sphinx rendered scikit-learn.org. See: https://github.com/scikit-learn/scikit-learn/issues/21755 */display: inline-block !important;position: relative;}#sk-container-id-2 div.sk-text-repr-fallback {display: none;}</style><div id=\"sk-container-id-2\" class=\"sk-top-container\"><div class=\"sk-text-repr-fallback\"><pre>KMeans(n_clusters=5)</pre><b>In a Jupyter environment, please rerun this cell to show the HTML representation or trust the notebook. <br />On GitHub, the HTML representation is unable to render, please try loading this page with nbviewer.org.</b></div><div class=\"sk-container\" hidden><div class=\"sk-item\"><div class=\"sk-estimator sk-toggleable\"><input class=\"sk-toggleable__control sk-hidden--visually\" id=\"sk-estimator-id-2\" type=\"checkbox\" checked><label for=\"sk-estimator-id-2\" class=\"sk-toggleable__label sk-toggleable__label-arrow\">KMeans</label><div class=\"sk-toggleable__content\"><pre>KMeans(n_clusters=5)</pre></div></div></div></div></div>"
      ],
      "text/plain": [
       "KMeans(n_clusters=5)"
      ]
     },
     "execution_count": 41,
     "metadata": {},
     "output_type": "execute_result"
    }
   ],
   "source": [
    "km=KMeans(n_clusters=5)\n",
    "km.fit(X_new)"
   ]
  },
  {
   "cell_type": "code",
   "execution_count": 43,
   "id": "5fd4dd70",
   "metadata": {},
   "outputs": [
    {
     "data": {
      "text/plain": [
       "array([2, 2, 1, 3, 3, 3, 1, 3, 0, 3, 0, 3, 1, 3, 0, 2, 1, 2, 0, 3, 0, 2,\n",
       "       1, 2, 1, 2, 1, 2, 1, 3, 0, 3, 0, 2, 1, 3, 1, 3, 1, 3, 1, 2, 0, 3,\n",
       "       1, 3, 1, 3, 3, 3, 1, 2, 3, 0, 1, 0, 1, 0, 3, 0, 0, 2, 1, 1, 0, 2,\n",
       "       1, 1, 2, 3, 0, 1, 1, 1, 0, 2, 1, 0, 3, 1, 0, 2, 0, 1, 3, 0, 1, 3,\n",
       "       3, 1, 1, 2, 0, 1, 3, 2, 1, 3, 0, 2, 3, 1, 0, 2, 0, 3, 1, 0, 0, 0,\n",
       "       0, 3, 1, 2, 3, 3, 1, 1, 1, 1, 2, 1, 3, 2, 3, 3, 0, 2, 0, 2, 0, 2,\n",
       "       3, 3, 0, 3, 1, 2, 0, 3, 1, 2, 3, 3, 0, 2, 0, 3, 1, 2, 0, 2, 1, 3,\n",
       "       1, 3, 0, 3, 0, 3, 1, 3, 0, 3, 0, 3, 0, 3, 1, 2, 0, 2, 0, 2, 1, 3,\n",
       "       0, 2, 0, 2, 1, 3, 0, 3, 1, 2, 1, 2, 1, 3, 1, 3, 0, 3, 1, 3, 1, 2,\n",
       "       0, 2, 0, 2, 1, 3, 0, 2, 0, 3, 4, 3, 4, 2, 4, 2, 4, 3, 4, 2, 4, 2,\n",
       "       4, 2, 4, 4, 0, 2, 0, 2, 0, 4, 4, 2, 0, 2, 0, 2, 4, 4, 0, 2, 0, 4,\n",
       "       4, 4, 4, 2, 4, 2, 4, 4])"
      ]
     },
     "execution_count": 43,
     "metadata": {},
     "output_type": "execute_result"
    }
   ],
   "source": [
    "c_num=km.predict(X_new)\n",
    "c_num"
   ]
  },
  {
   "cell_type": "code",
   "execution_count": 44,
   "id": "560232f0",
   "metadata": {},
   "outputs": [],
   "source": [
    "X_new1=X_new[c_num==0]\n",
    "X_new2=X_new[c_num==1]\n",
    "X_new3=X_new[c_num==2]\n",
    "X_new4=X_new[c_num==3]\n",
    "X_new5=X_new[c_num==4]"
   ]
  },
  {
   "cell_type": "code",
   "execution_count": 45,
   "id": "94089c82",
   "metadata": {},
   "outputs": [
    {
     "data": {
      "image/png": "[encoded data removed]",
      "text/plain": [
       "<Figure size 640x480 with 1 Axes>"
      ]
     },
     "metadata": {},
     "output_type": "display_data"
    }
   ],
   "source": [
    "plt.scatter(X_new1[:,2],X_new1[:,3],color='green')\n",
    "plt.scatter(X_new2[:,2],X_new2[:,3],color='red')\n",
    "plt.scatter(X_new3[:,2],X_new3[:,3],color='orange')\n",
    "plt.scatter(X_new4[:,2],X_new4[:,3],color='blue')\n",
    "plt.scatter(X_new5[:,2],X_new5[:,3],color='yellow')\n",
    "plt.show()"
   ]
  },
  {
   "cell_type": "code",
   "execution_count": 47,
   "id": "2ddcef82",
   "metadata": {},
   "outputs": [
    {
     "data": {
      "text/plain": [
       "array([[ 0.52501784, -0.13068109],\n",
       "       [ 0.52161002, -0.44495281],\n",
       "       [-0.46885389,  0.1757414 ],\n",
       "       [-0.4749001 , -0.35998543],\n",
       "       [-0.46447451,  0.03081979],\n",
       "       [-0.47542174, -0.3639367 ],\n",
       "       [-0.45739581,  0.35069648],\n",
       "       [-0.47666455, -0.49724181],\n",
       "       [ 0.56337592,  0.68419875],\n",
       "       [-0.46874023, -0.2387374 ],\n",
       "       [ 0.56433835,  0.63086637],\n",
       "       [-0.46814854, -0.3973039 ],\n",
       "       [-0.4409961 ,  0.54690999],\n",
       "       [-0.47370831, -0.34943912],\n",
       "       [ 0.54209235,  0.28755127],\n",
       "       [ 0.5231461 , -0.41861565],\n",
       "       [-0.46045131,  0.11667224],\n",
       "       [ 0.52327708, -0.33779023],\n",
       "       [ 0.55179213,  0.33357885],\n",
       "       [-0.46758905, -0.39041989],\n",
       "       [ 0.53846696,  0.08611301],\n",
       "       [ 0.526537  , -0.33642549],\n",
       "       [-0.44826404,  0.48543779],\n",
       "       [ 0.53114236, -0.26650126],\n",
       "       [-0.4429904 ,  0.50582931],\n",
       "       [ 0.52892484, -0.36313175],\n",
       "       [-0.45183503,  0.25579117],\n",
       "       [ 0.53587256, -0.12408048],\n",
       "       [-0.45535313,  0.20503109],\n",
       "       [-0.4746295 , -0.44414115],\n",
       "       [ 0.56148001,  0.62617134],\n",
       "       [-0.47438172, -0.35527582],\n",
       "       [ 0.55656821,  0.54338901],\n",
       "       [ 0.52006981, -0.5736999 ],\n",
       "       [-0.44618263,  0.44587344],\n",
       "       [-0.47498419, -0.420462  ],\n",
       "       [-0.4516662 ,  0.33954934],\n",
       "       [-0.46719699, -0.2511119 ],\n",
       "       [-0.45688019,  0.19611005],\n",
       "       [-0.47458977, -0.38508065],\n",
       "       [-0.43609645,  0.46282574],\n",
       "       [ 0.52511785, -0.50493156],\n",
       "       [ 0.5497487 ,  0.22586713],\n",
       "       [-0.4644928 , -0.14437567],\n",
       "       [-0.44715396,  0.3315809 ],\n",
       "       [-0.47020385, -0.25845071],\n",
       "       [-0.44944807,  0.12591662],\n",
       "       [-0.46574324, -0.07891474],\n",
       "       [-0.46366096, -0.0153108 ],\n",
       "       [-0.46216273,  0.0080936 ],\n",
       "       [-0.44962541,  0.1377562 ],\n",
       "       [ 0.53604052, -0.14349059],\n",
       "       [-0.46323245, -0.08925221],\n",
       "       [ 0.5556282 ,  0.16047767],\n",
       "       [-0.44794795,  0.20544878],\n",
       "       [ 0.54885821,  0.1728095 ],\n",
       "       [-0.44767222,  0.17666247],\n",
       "       [ 0.56486538,  0.38976942],\n",
       "       [-0.46554647, -0.11280821],\n",
       "       [ 0.55310086,  0.20195625],\n",
       "       [ 0.56466772,  0.3204946 ],\n",
       "       [ 0.52657963, -0.26827776],\n",
       "       [-0.43558798,  0.34695096],\n",
       "       [-0.44614416,  0.13854299],\n",
       "       [ 0.56022931,  0.27820078],\n",
       "       [ 0.52558461, -0.31271754],\n",
       "       [-0.45322247,  0.08188897],\n",
       "       [-0.43426095,  0.39052382],\n",
       "       [ 0.52633372, -0.30101534],\n",
       "       [-0.46111231, -0.02271552],\n",
       "       [ 0.56511654,  0.32766759],\n",
       "       [-0.44918085,  0.19272807],\n",
       "       [-0.44014935,  0.28828836],\n",
       "       [-0.44096702,  0.232009  ],\n",
       "       [ 0.5583641 ,  0.26181777],\n",
       "       [ 0.5328256 , -0.18063423],\n",
       "       [-0.45141065,  0.07943982],\n",
       "       [ 0.54401409,  0.03143604],\n",
       "       [-0.46777439, -0.16996871],\n",
       "       [-0.44712927,  0.21468761],\n",
       "       [ 0.55639863,  0.20625374],\n",
       "       [ 0.54169818, -0.04824772],\n",
       "       [ 0.56505789,  0.40367483],\n",
       "       [-0.44961024,  0.16350119],\n",
       "       [-0.46985667, -0.23357265],\n",
       "       [ 0.55024064,  0.14113346],\n",
       "       [-0.44417154,  0.15539537],\n",
       "       [-0.46854193, -0.20665755],\n",
       "       [-0.46002592, -0.10671964],\n",
       "       [-0.44640472,  0.19307429],\n",
       "       [-0.43386126,  0.33106577],\n",
       "       [ 0.52890457, -0.1711779 ],\n",
       "       [ 0.55055422,  0.1152799 ],\n",
       "       [-0.45297367,  0.12371377],\n",
       "       [-0.45920022,  0.01401635],\n",
       "       [ 0.53222501, -0.18969265],\n",
       "       [-0.44854753,  0.14934983],\n",
       "       [-0.46388028, -0.10881392],\n",
       "       [ 0.55148257,  0.17127028],\n",
       "       [ 0.52968965, -0.21267071],\n",
       "       [-0.46560411, -0.0838415 ],\n",
       "       [-0.44694477,  0.16413638],\n",
       "       [ 0.56384066,  0.25664471],\n",
       "       [ 0.53359415, -0.19098592],\n",
       "       [ 0.550707  ,  0.07012481],\n",
       "       [-0.46721915, -0.11528581],\n",
       "       [-0.43433276,  0.34670501],\n",
       "       [ 0.55573136,  0.20874592],\n",
       "       [ 0.56656942,  0.39669646],\n",
       "       [ 0.56448713,  0.33309252],\n",
       "       [ 0.56327077,  0.28923069],\n",
       "       [-0.47000844, -0.23545808],\n",
       "       [-0.45426284,  0.08307366],\n",
       "       [ 0.52962298, -0.2011201 ],\n",
       "       [-0.46983536, -0.19949878],\n",
       "       [-0.46931986, -0.20387639],\n",
       "       [-0.43554109,  0.36729982],\n",
       "       [-0.44789768,  0.07483048],\n",
       "       [-0.44430914,  0.22629546],\n",
       "       [-0.44669361,  0.10203455],\n",
       "       [ 0.5347798 , -0.18876849],\n",
       "       [-0.45369721,  0.09828656],\n",
       "       [-0.45408024, -0.02360532],\n",
       "       [ 0.53990216, -0.33031678],\n",
       "       [-0.46331702,  0.01032561],\n",
       "       [-0.46293101, -0.28197235],\n",
       "       [ 0.54966136,  0.1661489 ],\n",
       "       [ 0.54040537, -0.35135216],\n",
       "       [ 0.56445067,  0.54634191],\n",
       "       [ 0.54124335, -0.21395841],\n",
       "       [ 0.55569491,  0.42199531],\n",
       "       [ 0.54199247, -0.20225621],\n",
       "       [-0.46218151, -0.00704747],\n",
       "       [-0.46200881, -0.23431085],\n",
       "       [ 0.53615736,  0.13761756],\n",
       "       [-0.46538215, -0.39468265],\n",
       "       [-0.44468375,  0.43208288],\n",
       "       [ 0.53720362, -0.26866974],\n",
       "       [ 0.53493486,  0.08542685],\n",
       "       [-0.45890782, -0.19611989],\n",
       "       [-0.43449028,  0.59971337],\n",
       "       [ 0.53508874, -0.43004584],\n",
       "       [-0.46019235, -0.02133621],\n",
       "       [-0.46268599, -0.35240306],\n",
       "       [ 0.53952794,  0.13869332],\n",
       "       [ 0.53184638, -0.50959222],\n",
       "       [ 0.55395415,  0.21488617],\n",
       "       [-0.46105678, -0.24817323],\n",
       "       [-0.45337372,  0.19301739],\n",
       "       [ 0.53726942, -0.38338863],\n",
       "       [ 0.55253864,  0.30884443],\n",
       "       [ 0.54124862, -0.30879781],\n",
       "       [-0.44564894,  0.32611922],\n",
       "       [-0.45668504, -0.19432881],\n",
       "       [-0.44293435,  0.39338546],\n",
       "       [-0.46644385, -0.42757183],\n",
       "       [ 0.54991292,  0.36726975],\n",
       "       [-0.46291158, -0.30402624],\n",
       "       [ 0.54766557,  0.33216314],\n",
       "       [-0.46232753, -0.2638267 ],\n",
       "       [-0.43830104,  0.34565805],\n",
       "       [-0.46413408, -0.35621695],\n",
       "       [ 0.5362936 ,  0.12360357],\n",
       "       [-0.46358262, -0.41378957],\n",
       "       [ 0.55750585,  0.31637786],\n",
       "       [-0.45729177, -0.21171612],\n",
       "       [ 0.55232445,  0.27071073],\n",
       "       [-0.46176466, -0.40790984],\n",
       "       [-0.45146351,  0.1736215 ],\n",
       "       [ 0.5399211 , -0.19231629],\n",
       "       [ 0.55175457,  0.30329671],\n",
       "       [ 0.53552291, -0.33560398],\n",
       "       [ 0.54910853,  0.28060762],\n",
       "       [ 0.53953005, -0.3786648 ],\n",
       "       [-0.43773164,  0.47312646],\n",
       "       [-0.46273937, -0.37123523],\n",
       "       [ 0.5651157 ,  0.49756754],\n",
       "       [ 0.53558533, -0.29935571],\n",
       "       [ 0.56653497,  0.51586479],\n",
       "       [ 0.53967858, -0.37602102],\n",
       "       [-0.45019175,  0.14223444],\n",
       "       [-0.46024511, -0.35043158],\n",
       "       [ 0.55723301,  0.3542514 ],\n",
       "       [-0.46261541, -0.40190697],\n",
       "       [-0.44779163,  0.13218595],\n",
       "       [ 0.53577934, -0.49254522],\n",
       "       [-0.43607962,  0.40433523],\n",
       "       [ 0.53788996, -0.28337025],\n",
       "       [-0.44477911,  0.30790802],\n",
       "       [-0.45646782, -0.2973167 ],\n",
       "       [-0.45072379,  0.17775317],\n",
       "       [-0.45759531, -0.21548698],\n",
       "       [ 0.54997222,  0.25406754],\n",
       "       [-0.45456376, -0.32504147],\n",
       "       [-0.43828622,  0.38124861],\n",
       "       [-0.45463469, -0.26569199],\n",
       "       [-0.44052216,  0.25963148],\n",
       "       [ 0.5429523 , -0.2920252 ],\n",
       "       [ 0.55071107,  0.15503092],\n",
       "       [ 0.54162014, -0.39096747],\n",
       "       [ 0.55834887,  0.21856896],\n",
       "       [ 0.54973934, -0.22248429],\n",
       "       [-0.43712737,  0.30386833],\n",
       "       [-0.45016154, -0.3699159 ],\n",
       "       [ 0.56322057,  0.25213635],\n",
       "       [ 0.54425441, -0.2719223 ],\n",
       "       [ 0.55836079,  0.24507229],\n",
       "       [-0.45160486, -0.30851481],\n",
       "       [-0.43979833,  0.25770929],\n",
       "       [-0.4522626 , -0.44866091],\n",
       "       [-0.42344687,  0.49046005],\n",
       "       [ 0.54660742, -0.44268289],\n",
       "       [-0.4509551 ,  0.0402429 ],\n",
       "       [ 0.55031277, -0.28317801],\n",
       "       [-0.42695168,  0.40931721],\n",
       "       [-0.44620625, -0.36583556],\n",
       "       [-0.43416184,  0.16866948],\n",
       "       [ 0.55192795, -0.40194251],\n",
       "       [-0.43611741,  0.23368984],\n",
       "       [ 0.55194124, -0.43232529],\n",
       "       [-0.43404302,  0.08262833],\n",
       "       [ 0.54911084, -0.55467196],\n",
       "       [-0.43484464,  0.15526225],\n",
       "       [-0.43954164, -0.19964958],\n",
       "       [ 0.57720917,  0.36735067],\n",
       "       [ 0.55367085, -0.43912325],\n",
       "       [ 0.5821097 ,  0.38643471],\n",
       "       [ 0.55406716, -0.34761415],\n",
       "       [ 0.58516432,  0.51729066],\n",
       "       [-0.44098535, -0.40147116],\n",
       "       [-0.43050497,  0.22434836],\n",
       "       [ 0.55719798, -0.37094708],\n",
       "       [ 0.57454059,  0.21726501],\n",
       "       [ 0.55619256, -0.37591686],\n",
       "       [ 0.57160654,  0.20670447],\n",
       "       [ 0.55471613, -0.52530178],\n",
       "       [-0.42563515,  0.201788  ],\n",
       "       [-0.43261546, -0.13503543],\n",
       "       [ 0.57555692,  0.29577865],\n",
       "       [ 0.56381996, -0.27290883],\n",
       "       [ 0.57848671,  0.35413806],\n",
       "       [-0.44355365, -0.51237581],\n",
       "       [-0.42683445,  0.23979891],\n",
       "       [-0.44016276, -0.43018565],\n",
       "       [-0.42843006,  0.18630071],\n",
       "       [ 0.56096263, -0.32464439],\n",
       "       [-0.41017265,  0.44745445],\n",
       "       [ 0.55953121, -0.50980822],\n",
       "       [-0.43943919, -0.1316902 ],\n",
       "       [-0.43576155, -0.42801954]])"
      ]
     },
     "execution_count": 47,
     "metadata": {},
     "output_type": "execute_result"
    }
   ],
   "source": [
    "from sklearn.decomposition import PCA\n",
    "pc=PCA(n_components=2)\n",
    "X_n=pc.fit_transform(X_new)\n",
    "X_n"
   ]
  },
  {
   "cell_type": "code",
   "execution_count": 51,
   "id": "1eeec495",
   "metadata": {},
   "outputs": [
    {
     "name": "stderr",
     "output_type": "stream",
     "text": [
      "C:\\ProgramData\\anaconda3\\Lib\\site-packages\\sklearn\\cluster\\_kmeans.py:1412: FutureWarning: The default value of `n_init` will change from 10 to 'auto' in 1.4. Set the value of `n_init` explicitly to suppress the warning\n",
      "  super()._check_params_vs_input(X, default_n_init=10)\n",
      "C:\\ProgramData\\anaconda3\\Lib\\site-packages\\sklearn\\cluster\\_kmeans.py:1436: UserWarning: KMeans is known to have a memory leak on Windows with MKL, when there are less chunks than available threads. You can avoid it by setting the environment variable OMP_NUM_THREADS=1.\n",
      "  warnings.warn(\n",
      "C:\\ProgramData\\anaconda3\\Lib\\site-packages\\sklearn\\cluster\\_kmeans.py:1412: FutureWarning: The default value of `n_init` will change from 10 to 'auto' in 1.4. Set the value of `n_init` explicitly to suppress the warning\n",
      "  super()._check_params_vs_input(X, default_n_init=10)\n",
      "C:\\ProgramData\\anaconda3\\Lib\\site-packages\\sklearn\\cluster\\_kmeans.py:1436: UserWarning: KMeans is known to have a memory leak on Windows with MKL, when there are less chunks than available threads. You can avoid it by setting the environment variable OMP_NUM_THREADS=1.\n",
      "  warnings.warn(\n",
      "C:\\ProgramData\\anaconda3\\Lib\\site-packages\\sklearn\\cluster\\_kmeans.py:1412: FutureWarning: The default value of `n_init` will change from 10 to 'auto' in 1.4. Set the value of `n_init` explicitly to suppress the warning\n",
      "  super()._check_params_vs_input(X, default_n_init=10)\n",
      "C:\\ProgramData\\anaconda3\\Lib\\site-packages\\sklearn\\cluster\\_kmeans.py:1436: UserWarning: KMeans is known to have a memory leak on Windows with MKL, when there are less chunks than available threads. You can avoid it by setting the environment variable OMP_NUM_THREADS=1.\n",
      "  warnings.warn(\n",
      "C:\\ProgramData\\anaconda3\\Lib\\site-packages\\sklearn\\cluster\\_kmeans.py:1412: FutureWarning: The default value of `n_init` will change from 10 to 'auto' in 1.4. Set the value of `n_init` explicitly to suppress the warning\n",
      "  super()._check_params_vs_input(X, default_n_init=10)\n",
      "C:\\ProgramData\\anaconda3\\Lib\\site-packages\\sklearn\\cluster\\_kmeans.py:1436: UserWarning: KMeans is known to have a memory leak on Windows with MKL, when there are less chunks than available threads. You can avoid it by setting the environment variable OMP_NUM_THREADS=1.\n",
      "  warnings.warn(\n",
      "C:\\ProgramData\\anaconda3\\Lib\\site-packages\\sklearn\\cluster\\_kmeans.py:1412: FutureWarning: The default value of `n_init` will change from 10 to 'auto' in 1.4. Set the value of `n_init` explicitly to suppress the warning\n",
      "  super()._check_params_vs_input(X, default_n_init=10)\n",
      "C:\\ProgramData\\anaconda3\\Lib\\site-packages\\sklearn\\cluster\\_kmeans.py:1436: UserWarning: KMeans is known to have a memory leak on Windows with MKL, when there are less chunks than available threads. You can avoid it by setting the environment variable OMP_NUM_THREADS=1.\n",
      "  warnings.warn(\n",
      "C:\\ProgramData\\anaconda3\\Lib\\site-packages\\sklearn\\cluster\\_kmeans.py:1412: FutureWarning: The default value of `n_init` will change from 10 to 'auto' in 1.4. Set the value of `n_init` explicitly to suppress the warning\n",
      "  super()._check_params_vs_input(X, default_n_init=10)\n",
      "C:\\ProgramData\\anaconda3\\Lib\\site-packages\\sklearn\\cluster\\_kmeans.py:1436: UserWarning: KMeans is known to have a memory leak on Windows with MKL, when there are less chunks than available threads. You can avoid it by setting the environment variable OMP_NUM_THREADS=1.\n",
      "  warnings.warn(\n",
      "C:\\ProgramData\\anaconda3\\Lib\\site-packages\\sklearn\\cluster\\_kmeans.py:1412: FutureWarning: The default value of `n_init` will change from 10 to 'auto' in 1.4. Set the value of `n_init` explicitly to suppress the warning\n",
      "  super()._check_params_vs_input(X, default_n_init=10)\n",
      "C:\\ProgramData\\anaconda3\\Lib\\site-packages\\sklearn\\cluster\\_kmeans.py:1436: UserWarning: KMeans is known to have a memory leak on Windows with MKL, when there are less chunks than available threads. You can avoid it by setting the environment variable OMP_NUM_THREADS=1.\n",
      "  warnings.warn(\n",
      "C:\\ProgramData\\anaconda3\\Lib\\site-packages\\sklearn\\cluster\\_kmeans.py:1412: FutureWarning: The default value of `n_init` will change from 10 to 'auto' in 1.4. Set the value of `n_init` explicitly to suppress the warning\n",
      "  super()._check_params_vs_input(X, default_n_init=10)\n",
      "C:\\ProgramData\\anaconda3\\Lib\\site-packages\\sklearn\\cluster\\_kmeans.py:1436: UserWarning: KMeans is known to have a memory leak on Windows with MKL, when there are less chunks than available threads. You can avoid it by setting the environment variable OMP_NUM_THREADS=1.\n",
      "  warnings.warn(\n",
      "C:\\ProgramData\\anaconda3\\Lib\\site-packages\\sklearn\\cluster\\_kmeans.py:1412: FutureWarning: The default value of `n_init` will change from 10 to 'auto' in 1.4. Set the value of `n_init` explicitly to suppress the warning\n",
      "  super()._check_params_vs_input(X, default_n_init=10)\n",
      "C:\\ProgramData\\anaconda3\\Lib\\site-packages\\sklearn\\cluster\\_kmeans.py:1436: UserWarning: KMeans is known to have a memory leak on Windows with MKL, when there are less chunks than available threads. You can avoid it by setting the environment variable OMP_NUM_THREADS=1.\n",
      "  warnings.warn(\n",
      "C:\\ProgramData\\anaconda3\\Lib\\site-packages\\sklearn\\cluster\\_kmeans.py:1412: FutureWarning: The default value of `n_init` will change from 10 to 'auto' in 1.4. Set the value of `n_init` explicitly to suppress the warning\n",
      "  super()._check_params_vs_input(X, default_n_init=10)\n",
      "C:\\ProgramData\\anaconda3\\Lib\\site-packages\\sklearn\\cluster\\_kmeans.py:1436: UserWarning: KMeans is known to have a memory leak on Windows with MKL, when there are less chunks than available threads. You can avoid it by setting the environment variable OMP_NUM_THREADS=1.\n",
      "  warnings.warn(\n",
      "C:\\ProgramData\\anaconda3\\Lib\\site-packages\\sklearn\\cluster\\_kmeans.py:1412: FutureWarning: The default value of `n_init` will change from 10 to 'auto' in 1.4. Set the value of `n_init` explicitly to suppress the warning\n",
      "  super()._check_params_vs_input(X, default_n_init=10)\n",
      "C:\\ProgramData\\anaconda3\\Lib\\site-packages\\sklearn\\cluster\\_kmeans.py:1436: UserWarning: KMeans is known to have a memory leak on Windows with MKL, when there are less chunks than available threads. You can avoid it by setting the environment variable OMP_NUM_THREADS=1.\n",
      "  warnings.warn(\n",
      "C:\\ProgramData\\anaconda3\\Lib\\site-packages\\sklearn\\cluster\\_kmeans.py:1412: FutureWarning: The default value of `n_init` will change from 10 to 'auto' in 1.4. Set the value of `n_init` explicitly to suppress the warning\n",
      "  super()._check_params_vs_input(X, default_n_init=10)\n",
      "C:\\ProgramData\\anaconda3\\Lib\\site-packages\\sklearn\\cluster\\_kmeans.py:1436: UserWarning: KMeans is known to have a memory leak on Windows with MKL, when there are less chunks than available threads. You can avoid it by setting the environment variable OMP_NUM_THREADS=1.\n",
      "  warnings.warn(\n",
      "C:\\ProgramData\\anaconda3\\Lib\\site-packages\\sklearn\\cluster\\_kmeans.py:1412: FutureWarning: The default value of `n_init` will change from 10 to 'auto' in 1.4. Set the value of `n_init` explicitly to suppress the warning\n",
      "  super()._check_params_vs_input(X, default_n_init=10)\n",
      "C:\\ProgramData\\anaconda3\\Lib\\site-packages\\sklearn\\cluster\\_kmeans.py:1436: UserWarning: KMeans is known to have a memory leak on Windows with MKL, when there are less chunks than available threads. You can avoid it by setting the environment variable OMP_NUM_THREADS=1.\n",
      "  warnings.warn(\n",
      "C:\\ProgramData\\anaconda3\\Lib\\site-packages\\sklearn\\cluster\\_kmeans.py:1412: FutureWarning: The default value of `n_init` will change from 10 to 'auto' in 1.4. Set the value of `n_init` explicitly to suppress the warning\n",
      "  super()._check_params_vs_input(X, default_n_init=10)\n",
      "C:\\ProgramData\\anaconda3\\Lib\\site-packages\\sklearn\\cluster\\_kmeans.py:1436: UserWarning: KMeans is known to have a memory leak on Windows with MKL, when there are less chunks than available threads. You can avoid it by setting the environment variable OMP_NUM_THREADS=1.\n",
      "  warnings.warn(\n",
      "C:\\ProgramData\\anaconda3\\Lib\\site-packages\\sklearn\\cluster\\_kmeans.py:1412: FutureWarning: The default value of `n_init` will change from 10 to 'auto' in 1.4. Set the value of `n_init` explicitly to suppress the warning\n",
      "  super()._check_params_vs_input(X, default_n_init=10)\n",
      "C:\\ProgramData\\anaconda3\\Lib\\site-packages\\sklearn\\cluster\\_kmeans.py:1436: UserWarning: KMeans is known to have a memory leak on Windows with MKL, when there are less chunks than available threads. You can avoid it by setting the environment variable OMP_NUM_THREADS=1.\n",
      "  warnings.warn(\n",
      "C:\\ProgramData\\anaconda3\\Lib\\site-packages\\sklearn\\cluster\\_kmeans.py:1412: FutureWarning: The default value of `n_init` will change from 10 to 'auto' in 1.4. Set the value of `n_init` explicitly to suppress the warning\n",
      "  super()._check_params_vs_input(X, default_n_init=10)\n",
      "C:\\ProgramData\\anaconda3\\Lib\\site-packages\\sklearn\\cluster\\_kmeans.py:1436: UserWarning: KMeans is known to have a memory leak on Windows with MKL, when there are less chunks than available threads. You can avoid it by setting the environment variable OMP_NUM_THREADS=1.\n",
      "  warnings.warn(\n",
      "C:\\ProgramData\\anaconda3\\Lib\\site-packages\\sklearn\\cluster\\_kmeans.py:1412: FutureWarning: The default value of `n_init` will change from 10 to 'auto' in 1.4. Set the value of `n_init` explicitly to suppress the warning\n",
      "  super()._check_params_vs_input(X, default_n_init=10)\n",
      "C:\\ProgramData\\anaconda3\\Lib\\site-packages\\sklearn\\cluster\\_kmeans.py:1436: UserWarning: KMeans is known to have a memory leak on Windows with MKL, when there are less chunks than available threads. You can avoid it by setting the environment variable OMP_NUM_THREADS=1.\n",
      "  warnings.warn(\n",
      "C:\\ProgramData\\anaconda3\\Lib\\site-packages\\sklearn\\cluster\\_kmeans.py:1412: FutureWarning: The default value of `n_init` will change from 10 to 'auto' in 1.4. Set the value of `n_init` explicitly to suppress the warning\n",
      "  super()._check_params_vs_input(X, default_n_init=10)\n",
      "C:\\ProgramData\\anaconda3\\Lib\\site-packages\\sklearn\\cluster\\_kmeans.py:1436: UserWarning: KMeans is known to have a memory leak on Windows with MKL, when there are less chunks than available threads. You can avoid it by setting the environment variable OMP_NUM_THREADS=1.\n",
      "  warnings.warn(\n",
      "C:\\ProgramData\\anaconda3\\Lib\\site-packages\\sklearn\\cluster\\_kmeans.py:1412: FutureWarning: The default value of `n_init` will change from 10 to 'auto' in 1.4. Set the value of `n_init` explicitly to suppress the warning\n",
      "  super()._check_params_vs_input(X, default_n_init=10)\n",
      "C:\\ProgramData\\anaconda3\\Lib\\site-packages\\sklearn\\cluster\\_kmeans.py:1436: UserWarning: KMeans is known to have a memory leak on Windows with MKL, when there are less chunks than available threads. You can avoid it by setting the environment variable OMP_NUM_THREADS=1.\n",
      "  warnings.warn(\n",
      "C:\\ProgramData\\anaconda3\\Lib\\site-packages\\sklearn\\cluster\\_kmeans.py:1412: FutureWarning: The default value of `n_init` will change from 10 to 'auto' in 1.4. Set the value of `n_init` explicitly to suppress the warning\n",
      "  super()._check_params_vs_input(X, default_n_init=10)\n",
      "C:\\ProgramData\\anaconda3\\Lib\\site-packages\\sklearn\\cluster\\_kmeans.py:1436: UserWarning: KMeans is known to have a memory leak on Windows with MKL, when there are less chunks than available threads. You can avoid it by setting the environment variable OMP_NUM_THREADS=1.\n",
      "  warnings.warn(\n"
     ]
    }
   ],
   "source": [
    "#to find the total value of k\n",
    "#wcss\n",
    "from sklearn.cluster import KMeans\n",
    "k_interi=[]\n",
    "for k in range(1,21):\n",
    "    km=KMeans(n_clusters=k)\n",
    "    km.fit(X_n)\n",
    "    k_interi.append(km.inertia_)"
   ]
  },
  {
   "cell_type": "code",
   "execution_count": 52,
   "id": "645e6e9d",
   "metadata": {},
   "outputs": [
    {
     "data": {
      "text/plain": [
       "[86.24354704551595,\n",
       " 24.231128795091685,\n",
       " 13.527898058112992,\n",
       " 4.552326364444706,\n",
       " 3.2965292016379357,\n",
       " 2.533763250600208,\n",
       " 1.9350041365002446,\n",
       " 1.4193453652451393,\n",
       " 1.1270907933999341,\n",
       " 0.8850214626142989,\n",
       " 0.7348931155994036,\n",
       " 0.6068458891009498,\n",
       " 0.5193022614878637,\n",
       " 0.44838402565006164,\n",
       " 0.39704237084649013,\n",
       " 0.36933187989498995,\n",
       " 0.32175589608981175,\n",
       " 0.28360486545739094,\n",
       " 0.26228574821214445,\n",
       " 0.2385298798989749]"
      ]
     },
     "execution_count": 52,
     "metadata": {},
     "output_type": "execute_result"
    }
   ],
   "source": [
    "k_interi"
   ]
  },
  {
   "cell_type": "code",
   "execution_count": 53,
   "id": "1b6e7bba",
   "metadata": {},
   "outputs": [
    {
     "data": {
      "image/png": "[encoded data removed]",
      "text/plain": [
       "<Figure size 640x480 with 1 Axes>"
      ]
     },
     "metadata": {},
     "output_type": "display_data"
    }
   ],
   "source": [
    "plt.scatter(range(1,21),k_interi)\n",
    "plt.plot(range(1,21),k_interi)\n",
    "plt.show()"
   ]
  },
  {
   "cell_type": "code",
   "execution_count": 54,
   "id": "51e6f206",
   "metadata": {},
   "outputs": [
    {
     "name": "stderr",
     "output_type": "stream",
     "text": [
      "C:\\ProgramData\\anaconda3\\Lib\\site-packages\\sklearn\\cluster\\_kmeans.py:1412: FutureWarning: The default value of `n_init` will change from 10 to 'auto' in 1.4. Set the value of `n_init` explicitly to suppress the warning\n",
      "  super()._check_params_vs_input(X, default_n_init=10)\n",
      "C:\\ProgramData\\anaconda3\\Lib\\site-packages\\sklearn\\cluster\\_kmeans.py:1436: UserWarning: KMeans is known to have a memory leak on Windows with MKL, when there are less chunks than available threads. You can avoid it by setting the environment variable OMP_NUM_THREADS=1.\n",
      "  warnings.warn(\n"
     ]
    },
    {
     "data": {
      "text/html": [
       "<style>#sk-container-id-3 {color: black;}#sk-container-id-3 pre{padding: 0;}#sk-container-id-3 div.sk-toggleable {background-color: white;}#sk-container-id-3 label.sk-toggleable__label {cursor: pointer;display: block;width: 100%;margin-bottom: 0;padding: 0.3em;box-sizing: border-box;text-align: center;}#sk-container-id-3 label.sk-toggleable__label-arrow:before {content: \"▸\";float: left;margin-right: 0.25em;color: #696969;}#sk-container-id-3 label.sk-toggleable__label-arrow:hover:before {color: black;}#sk-container-id-3 div.sk-estimator:hover label.sk-toggleable__label-arrow:before {color: black;}#sk-container-id-3 div.sk-toggleable__content {max-height: 0;max-width: 0;overflow: hidden;text-align: left;background-color: #f0f8ff;}#sk-container-id-3 div.sk-toggleable__content pre {margin: 0.2em;color: black;border-radius: 0.25em;background-color: #f0f8ff;}#sk-container-id-3 input.sk-toggleable__control:checked~div.sk-toggleable__content {max-height: 200px;max-width: 100%;overflow: auto;}#sk-container-id-3 input.sk-toggleable__control:checked~label.sk-toggleable__label-arrow:before {content: \"▾\";}#sk-container-id-3 div.sk-estimator input.sk-toggleable__control:checked~label.sk-toggleable__label {background-color: #d4ebff;}#sk-container-id-3 div.sk-label input.sk-toggleable__control:checked~label.sk-toggleable__label {background-color: #d4ebff;}#sk-container-id-3 input.sk-hidden--visually {border: 0;clip: rect(1px 1px 1px 1px);clip: rect(1px, 1px, 1px, 1px);height: 1px;margin: -1px;overflow: hidden;padding: 0;position: absolute;width: 1px;}#sk-container-id-3 div.sk-estimator {font-family: monospace;background-color: #f0f8ff;border: 1px dotted black;border-radius: 0.25em;box-sizing: border-box;margin-bottom: 0.5em;}#sk-container-id-3 div.sk-estimator:hover {background-color: #d4ebff;}#sk-container-id-3 div.sk-parallel-item::after {content: \"\";width: 100%;border-bottom: 1px solid gray;flex-grow: 1;}#sk-container-id-3 div.sk-label:hover label.sk-toggleable__label {background-color: #d4ebff;}#sk-container-id-3 div.sk-serial::before {content: \"\";position: absolute;border-left: 1px solid gray;box-sizing: border-box;top: 0;bottom: 0;left: 50%;z-index: 0;}#sk-container-id-3 div.sk-serial {display: flex;flex-direction: column;align-items: center;background-color: white;padding-right: 0.2em;padding-left: 0.2em;position: relative;}#sk-container-id-3 div.sk-item {position: relative;z-index: 1;}#sk-container-id-3 div.sk-parallel {display: flex;align-items: stretch;justify-content: center;background-color: white;position: relative;}#sk-container-id-3 div.sk-item::before, #sk-container-id-3 div.sk-parallel-item::before {content: \"\";position: absolute;border-left: 1px solid gray;box-sizing: border-box;top: 0;bottom: 0;left: 50%;z-index: -1;}#sk-container-id-3 div.sk-parallel-item {display: flex;flex-direction: column;z-index: 1;position: relative;background-color: white;}#sk-container-id-3 div.sk-parallel-item:first-child::after {align-self: flex-end;width: 50%;}#sk-container-id-3 div.sk-parallel-item:last-child::after {align-self: flex-start;width: 50%;}#sk-container-id-3 div.sk-parallel-item:only-child::after {width: 0;}#sk-container-id-3 div.sk-dashed-wrapped {border: 1px dashed gray;margin: 0 0.4em 0.5em 0.4em;box-sizing: border-box;padding-bottom: 0.4em;background-color: white;}#sk-container-id-3 div.sk-label label {font-family: monospace;font-weight: bold;display: inline-block;line-height: 1.2em;}#sk-container-id-3 div.sk-label-container {text-align: center;}#sk-container-id-3 div.sk-container {/* jupyter's `normalize.less` sets `[hidden] { display: none; }` but bootstrap.min.css set `[hidden] { display: none !important; }` so we also need the `!important` here to be able to override the default hidden behavior on the sphinx rendered scikit-learn.org. See: https://github.com/scikit-learn/scikit-learn/issues/21755 */display: inline-block !important;position: relative;}#sk-container-id-3 div.sk-text-repr-fallback {display: none;}</style><div id=\"sk-container-id-3\" class=\"sk-top-container\"><div class=\"sk-text-repr-fallback\"><pre>KMeans(n_clusters=4)</pre><b>In a Jupyter environment, please rerun this cell to show the HTML representation or trust the notebook. <br />On GitHub, the HTML representation is unable to render, please try loading this page with nbviewer.org.</b></div><div class=\"sk-container\" hidden><div class=\"sk-item\"><div class=\"sk-estimator sk-toggleable\"><input class=\"sk-toggleable__control sk-hidden--visually\" id=\"sk-estimator-id-3\" type=\"checkbox\" checked><label for=\"sk-estimator-id-3\" class=\"sk-toggleable__label sk-toggleable__label-arrow\">KMeans</label><div class=\"sk-toggleable__content\"><pre>KMeans(n_clusters=4)</pre></div></div></div></div></div>"
      ],
      "text/plain": [
       "KMeans(n_clusters=4)"
      ]
     },
     "execution_count": 54,
     "metadata": {},
     "output_type": "execute_result"
    }
   ],
   "source": [
    "km=KMeans(n_clusters=4)\n",
    "km.fit(X_n)"
   ]
  },
  {
   "cell_type": "code",
   "execution_count": 55,
   "id": "736b63f8",
   "metadata": {},
   "outputs": [
    {
     "data": {
      "text/plain": [
       "array([2, 2, 1, 3, 1, 3, 1, 3, 0, 3, 0, 3, 1, 3, 0, 2, 1, 2, 0, 3, 0, 2,\n",
       "       1, 2, 1, 2, 1, 2, 1, 3, 0, 3, 0, 2, 1, 3, 1, 3, 1, 3, 1, 2, 0, 3,\n",
       "       1, 3, 1, 3, 1, 1, 1, 2, 3, 0, 1, 0, 1, 0, 3, 0, 0, 2, 1, 1, 0, 2,\n",
       "       1, 1, 2, 1, 0, 1, 1, 1, 0, 2, 1, 0, 3, 1, 0, 2, 0, 1, 3, 0, 1, 3,\n",
       "       3, 1, 1, 2, 0, 1, 1, 2, 1, 3, 0, 2, 3, 1, 0, 2, 0, 3, 1, 0, 0, 0,\n",
       "       0, 3, 1, 2, 3, 3, 1, 1, 1, 1, 2, 1, 1, 2, 1, 3, 0, 2, 0, 2, 0, 2,\n",
       "       1, 3, 0, 3, 1, 2, 0, 3, 1, 2, 1, 3, 0, 2, 0, 3, 1, 2, 0, 2, 1, 3,\n",
       "       1, 3, 0, 3, 0, 3, 1, 3, 0, 3, 0, 3, 0, 3, 1, 2, 0, 2, 0, 2, 1, 3,\n",
       "       0, 2, 0, 2, 1, 3, 0, 3, 1, 2, 1, 2, 1, 3, 1, 3, 0, 3, 1, 3, 1, 2,\n",
       "       0, 2, 0, 2, 1, 3, 0, 2, 0, 3, 1, 3, 1, 2, 1, 2, 1, 3, 1, 2, 1, 2,\n",
       "       1, 2, 1, 3, 0, 2, 0, 2, 0, 3, 1, 2, 0, 2, 0, 2, 1, 3, 0, 2, 0, 3,\n",
       "       1, 3, 1, 2, 1, 2, 3, 3])"
      ]
     },
     "execution_count": 55,
     "metadata": {},
     "output_type": "execute_result"
    }
   ],
   "source": [
    "clusters=km.predict(X_n)\n",
    "clusters"
   ]
  },
  {
   "cell_type": "code",
   "execution_count": 56,
   "id": "0d15e20a",
   "metadata": {},
   "outputs": [
    {
     "data": {
      "image/png": "[encoded data removed]",
      "text/plain": [
       "<Figure size 640x480 with 1 Axes>"
      ]
     },
     "metadata": {},
     "output_type": "display_data"
    }
   ],
   "source": [
    "plt.scatter(X_n[clusters==0][:,0],X_n[clusters==0][:,1],color='green')\n",
    "plt.scatter(X_n[clusters==1][:,0],X_n[clusters==1][:,1],color='yellow')\n",
    "plt.scatter(X_n[clusters==2][:,0],X_n[clusters==2][:,1],color='red')\n",
    "plt.scatter(X_n[clusters==3][:,0],X_n[clusters==3][:,1],color='blue')\n",
    "plt.show()"
   ]
  },
  {
   "cell_type": "code",
   "execution_count": null,
   "id": "ad49f1fe",
   "metadata": {},
   "outputs": [],
   "source": []
  },
  {
   "cell_type": "code",
   "execution_count": null,
   "id": "6a0c43a6",
   "metadata": {},
   "outputs": [],
   "source": []
  }
 ],
 "metadata": {
  "kernelspec": {
   "display_name": "Python 3 (ipykernel)",
   "language": "python",
   "name": "python3"
  },
  "language_info": {
   "codemirror_mode": {
    "name": "ipython",
    "version": 3
   },
   "file_extension": ".py",
   "mimetype": "text/x-python",
   "name": "python",
   "nbconvert_exporter": "python",
   "pygments_lexer": "ipython3",
   "version": "3.11.4"
  }
 },
 "nbformat": 4,
 "nbformat_minor": 5
}
